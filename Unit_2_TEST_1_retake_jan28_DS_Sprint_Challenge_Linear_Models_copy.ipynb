{
  "nbformat": 4,
  "nbformat_minor": 0,
  "metadata": {
    "colab": {
      "name": "Unit 2 TEST 1 - retake jan28  DS_Sprint_Challenge_Linear_Models_copy.ipynb",
      "provenance": [],
      "collapsed_sections": [
        "DidByDsrOa-o"
      ],
      "include_colab_link": true
    },
    "kernelspec": {
      "display_name": "Python 3",
      "language": "python",
      "name": "python3"
    },
    "language_info": {
      "codemirror_mode": {
        "name": "ipython",
        "version": 3
      },
      "file_extension": ".py",
      "mimetype": "text/x-python",
      "name": "python",
      "nbconvert_exporter": "python",
      "pygments_lexer": "ipython3",
      "version": "3.7.2"
    }
  },
  "cells": [
    {
      "cell_type": "markdown",
      "metadata": {
        "id": "view-in-github",
        "colab_type": "text"
      },
      "source": [
        "<a href=\"https://colab.research.google.com/github/LambdaTheda/DS-Unit-1-Build/blob/master/Unit_2_TEST_1_retake_jan28_DS_Sprint_Challenge_Linear_Models_copy.ipynb\" target=\"_parent\"><img src=\"https://colab.research.google.com/assets/colab-badge.svg\" alt=\"Open In Colab\"/></a>"
      ]
    },
    {
      "cell_type": "markdown",
      "metadata": {
        "colab_type": "text",
        "id": "VZf2akBaMjq8"
      },
      "source": [
        "_Lambda School Data Science, Unit 2_\n",
        " \n",
        "# Linear Models Sprint Challenge\n",
        "\n",
        "To demonstrate mastery on your Sprint Challenge, do all the required, numbered instructions in this notebook.\n",
        "\n",
        "To earn a score of \"3\", also do all the stretch goals.\n",
        "\n",
        "You are permitted and encouraged to do as much data exploration as you want."
      ]
    },
    {
      "cell_type": "markdown",
      "metadata": {
        "colab_type": "text",
        "id": "20OITf58NLQh"
      },
      "source": [
        "### Part 1, Classification\n",
        "- 1.1. Do train/test split. Arrange data into X features matrix and y target vector\n",
        "- 1.2. Use scikit-learn to fit a logistic regression model\n",
        "- 1.3. Report classification metric: accuracy\n",
        "\n",
        "### Part 2, Regression\n",
        "- 2.1. Begin with baselines for regression\n",
        "- 2.2. Do train/validate/test split\n",
        "- 2.3. Arrange data into X features matrix and y target vector\n",
        "- 2.4. Do one-hot encoding\n",
        "- 2.5. Use scikit-learn to fit a linear regression or ridge regression model\n",
        "- 2.6. Report validation MAE and $R^2$\n",
        "\n",
        "### Stretch Goals, Regression\n",
        "- Make at least 2 visualizations to explore relationships between features and target. You may use any visualization library\n",
        "- Try at least 3 feature combinations. You may select features manually, or automatically\n",
        "- Report validation MAE and $R^2$ for each feature combination you try\n",
        "- Report test MAE and $R^2$ for your final model\n",
        "- Print or plot the coefficients for the features in your model"
      ]
    },
    {
      "cell_type": "code",
      "metadata": {
        "colab_type": "code",
        "id": "BxoFSeX5OX5k",
        "colab": {}
      },
      "source": [
        "# If you're in Colab...\n",
        "import sys\n",
        "if 'google.colab' in sys.modules:\n",
        "    !pip install category_encoders==2.*\n",
        "    !pip install pandas-profiling==2.*\n",
        "    !pip install plotly==4.*"
      ],
      "execution_count": 0,
      "outputs": []
    },
    {
      "cell_type": "markdown",
      "metadata": {
        "colab_type": "text",
        "id": "Q7u1KtsnOi78"
      },
      "source": [
        "# Part 1, Classification: Predict Blood Donations 🚑\n",
        "Our dataset is from a mobile blood donation vehicle in Taiwan. The Blood Transfusion Service Center drives to different universities and collects blood as part of a blood drive.\n",
        "\n",
        "The goal is to predict whether the donor made a donation in March 2007, using information about each donor's history.\n",
        "\n",
        "Good data-driven systems for tracking and predicting donations and supply needs can improve the entire supply chain, making sure that more patients get the blood transfusions they need."
      ]
    },
    {
      "cell_type": "code",
      "metadata": {
        "colab_type": "code",
        "id": "gJzpgv-fO4rh",
        "colab": {}
      },
      "source": [
        "import pandas as pd\n",
        "\n",
        "donors = pd.read_csv('https://archive.ics.uci.edu/ml/machine-learning-databases/blood-transfusion/transfusion.data')\n",
        "assert donors.shape == (748,5)\n",
        "\n",
        "donors = donors.rename(columns={\n",
        "    'Recency (months)': 'months_since_last_donation', \n",
        "    'Frequency (times)': 'number_of_donations', \n",
        "    'Monetary (c.c. blood)': 'total_volume_donated', \n",
        "    'Time (months)': 'months_since_first_donation', \n",
        "    'whether he/she donated blood in March 2007': 'made_donation_in_march_2007'\n",
        "})"
      ],
      "execution_count": 0,
      "outputs": []
    },
    {
      "cell_type": "markdown",
      "metadata": {
        "colab_type": "text",
        "id": "oU4oE0LJMG7X"
      },
      "source": [
        "Notice that the majority class (did not donate blood in March 2007) occurs about 3/4 of the time. \n",
        "\n",
        "This is the accuracy score for the \"majority class baseline\" (the accuracy score we'd get by just guessing the majority class every time)."
      ]
    },
    {
      "cell_type": "code",
      "metadata": {
        "colab_type": "code",
        "id": "TgRp5slvLzJs",
        "outputId": "ee02d799-2c4e-43fe-dd1b-220bf65df659",
        "colab": {
          "base_uri": "https://localhost:8080/",
          "height": 68
        }
      },
      "source": [
        "donors['made_donation_in_march_2007'].value_counts(normalize=True)"
      ],
      "execution_count": 0,
      "outputs": [
        {
          "output_type": "execute_result",
          "data": {
            "text/plain": [
              "0    0.762032\n",
              "1    0.237968\n",
              "Name: made_donation_in_march_2007, dtype: float64"
            ]
          },
          "metadata": {
            "tags": []
          },
          "execution_count": 46
        }
      ]
    },
    {
      "cell_type": "code",
      "metadata": {
        "id": "FyslnV-Cypxc",
        "colab_type": "code",
        "outputId": "08b4dddf-1e07-443f-ceb5-e4384b5822ab",
        "colab": {
          "base_uri": "https://localhost:8080/",
          "height": 317
        }
      },
      "source": [
        "#explore data\n",
        "donors.describe()"
      ],
      "execution_count": 0,
      "outputs": [
        {
          "output_type": "execute_result",
          "data": {
            "text/html": [
              "<div>\n",
              "<style scoped>\n",
              "    .dataframe tbody tr th:only-of-type {\n",
              "        vertical-align: middle;\n",
              "    }\n",
              "\n",
              "    .dataframe tbody tr th {\n",
              "        vertical-align: top;\n",
              "    }\n",
              "\n",
              "    .dataframe thead th {\n",
              "        text-align: right;\n",
              "    }\n",
              "</style>\n",
              "<table border=\"1\" class=\"dataframe\">\n",
              "  <thead>\n",
              "    <tr style=\"text-align: right;\">\n",
              "      <th></th>\n",
              "      <th>months_since_last_donation</th>\n",
              "      <th>number_of_donations</th>\n",
              "      <th>total_volume_donated</th>\n",
              "      <th>months_since_first_donation</th>\n",
              "      <th>made_donation_in_march_2007</th>\n",
              "    </tr>\n",
              "  </thead>\n",
              "  <tbody>\n",
              "    <tr>\n",
              "      <th>count</th>\n",
              "      <td>748.000000</td>\n",
              "      <td>748.000000</td>\n",
              "      <td>748.000000</td>\n",
              "      <td>748.000000</td>\n",
              "      <td>748.000000</td>\n",
              "    </tr>\n",
              "    <tr>\n",
              "      <th>mean</th>\n",
              "      <td>9.506684</td>\n",
              "      <td>5.514706</td>\n",
              "      <td>1378.676471</td>\n",
              "      <td>34.282086</td>\n",
              "      <td>0.237968</td>\n",
              "    </tr>\n",
              "    <tr>\n",
              "      <th>std</th>\n",
              "      <td>8.095396</td>\n",
              "      <td>5.839307</td>\n",
              "      <td>1459.826781</td>\n",
              "      <td>24.376714</td>\n",
              "      <td>0.426124</td>\n",
              "    </tr>\n",
              "    <tr>\n",
              "      <th>min</th>\n",
              "      <td>0.000000</td>\n",
              "      <td>1.000000</td>\n",
              "      <td>250.000000</td>\n",
              "      <td>2.000000</td>\n",
              "      <td>0.000000</td>\n",
              "    </tr>\n",
              "    <tr>\n",
              "      <th>25%</th>\n",
              "      <td>2.750000</td>\n",
              "      <td>2.000000</td>\n",
              "      <td>500.000000</td>\n",
              "      <td>16.000000</td>\n",
              "      <td>0.000000</td>\n",
              "    </tr>\n",
              "    <tr>\n",
              "      <th>50%</th>\n",
              "      <td>7.000000</td>\n",
              "      <td>4.000000</td>\n",
              "      <td>1000.000000</td>\n",
              "      <td>28.000000</td>\n",
              "      <td>0.000000</td>\n",
              "    </tr>\n",
              "    <tr>\n",
              "      <th>75%</th>\n",
              "      <td>14.000000</td>\n",
              "      <td>7.000000</td>\n",
              "      <td>1750.000000</td>\n",
              "      <td>50.000000</td>\n",
              "      <td>0.000000</td>\n",
              "    </tr>\n",
              "    <tr>\n",
              "      <th>max</th>\n",
              "      <td>74.000000</td>\n",
              "      <td>50.000000</td>\n",
              "      <td>12500.000000</td>\n",
              "      <td>98.000000</td>\n",
              "      <td>1.000000</td>\n",
              "    </tr>\n",
              "  </tbody>\n",
              "</table>\n",
              "</div>"
            ],
            "text/plain": [
              "       months_since_last_donation  ...  made_donation_in_march_2007\n",
              "count                  748.000000  ...                   748.000000\n",
              "mean                     9.506684  ...                     0.237968\n",
              "std                      8.095396  ...                     0.426124\n",
              "min                      0.000000  ...                     0.000000\n",
              "25%                      2.750000  ...                     0.000000\n",
              "50%                      7.000000  ...                     0.000000\n",
              "75%                     14.000000  ...                     0.000000\n",
              "max                     74.000000  ...                     1.000000\n",
              "\n",
              "[8 rows x 5 columns]"
            ]
          },
          "metadata": {
            "tags": []
          },
          "execution_count": 47
        }
      ]
    },
    {
      "cell_type": "code",
      "metadata": {
        "id": "EIJeRgKwyyct",
        "colab_type": "code",
        "outputId": "1577589d-ec56-43ee-8258-b290637af93f",
        "colab": {
          "base_uri": "https://localhost:8080/",
          "height": 34
        }
      },
      "source": [
        "donors.shape"
      ],
      "execution_count": 0,
      "outputs": [
        {
          "output_type": "execute_result",
          "data": {
            "text/plain": [
              "(748, 5)"
            ]
          },
          "metadata": {
            "tags": []
          },
          "execution_count": 48
        }
      ]
    },
    {
      "cell_type": "code",
      "metadata": {
        "id": "MMWe6POezCRJ",
        "colab_type": "code",
        "outputId": "57d96ee1-02da-4a01-9fd8-51e10bb3fe02",
        "colab": {
          "base_uri": "https://localhost:8080/",
          "height": 224
        }
      },
      "source": [
        "#change dataset name & look at 1st 5 rows\n",
        "df = donors \n",
        "df.head()"
      ],
      "execution_count": 0,
      "outputs": [
        {
          "output_type": "execute_result",
          "data": {
            "text/html": [
              "<div>\n",
              "<style scoped>\n",
              "    .dataframe tbody tr th:only-of-type {\n",
              "        vertical-align: middle;\n",
              "    }\n",
              "\n",
              "    .dataframe tbody tr th {\n",
              "        vertical-align: top;\n",
              "    }\n",
              "\n",
              "    .dataframe thead th {\n",
              "        text-align: right;\n",
              "    }\n",
              "</style>\n",
              "<table border=\"1\" class=\"dataframe\">\n",
              "  <thead>\n",
              "    <tr style=\"text-align: right;\">\n",
              "      <th></th>\n",
              "      <th>months_since_last_donation</th>\n",
              "      <th>number_of_donations</th>\n",
              "      <th>total_volume_donated</th>\n",
              "      <th>months_since_first_donation</th>\n",
              "      <th>made_donation_in_march_2007</th>\n",
              "    </tr>\n",
              "  </thead>\n",
              "  <tbody>\n",
              "    <tr>\n",
              "      <th>0</th>\n",
              "      <td>2</td>\n",
              "      <td>50</td>\n",
              "      <td>12500</td>\n",
              "      <td>98</td>\n",
              "      <td>1</td>\n",
              "    </tr>\n",
              "    <tr>\n",
              "      <th>1</th>\n",
              "      <td>0</td>\n",
              "      <td>13</td>\n",
              "      <td>3250</td>\n",
              "      <td>28</td>\n",
              "      <td>1</td>\n",
              "    </tr>\n",
              "    <tr>\n",
              "      <th>2</th>\n",
              "      <td>1</td>\n",
              "      <td>16</td>\n",
              "      <td>4000</td>\n",
              "      <td>35</td>\n",
              "      <td>1</td>\n",
              "    </tr>\n",
              "    <tr>\n",
              "      <th>3</th>\n",
              "      <td>2</td>\n",
              "      <td>20</td>\n",
              "      <td>5000</td>\n",
              "      <td>45</td>\n",
              "      <td>1</td>\n",
              "    </tr>\n",
              "    <tr>\n",
              "      <th>4</th>\n",
              "      <td>1</td>\n",
              "      <td>24</td>\n",
              "      <td>6000</td>\n",
              "      <td>77</td>\n",
              "      <td>0</td>\n",
              "    </tr>\n",
              "  </tbody>\n",
              "</table>\n",
              "</div>"
            ],
            "text/plain": [
              "   months_since_last_donation  ...  made_donation_in_march_2007\n",
              "0                           2  ...                            1\n",
              "1                           0  ...                            1\n",
              "2                           1  ...                            1\n",
              "3                           2  ...                            1\n",
              "4                           1  ...                            0\n",
              "\n",
              "[5 rows x 5 columns]"
            ]
          },
          "metadata": {
            "tags": []
          },
          "execution_count": 49
        }
      ]
    },
    {
      "cell_type": "markdown",
      "metadata": {
        "colab_type": "text",
        "id": "P66Fpcq1PYZl"
      },
      "source": [
        "## 1.1. Do train/test split. Arrange data into X features matrix and y target vector\n",
        "\n",
        "Do these steps in either order.\n",
        "\n",
        "Use scikit-learn's train/test split function to split randomly. (You can include 75% of the data in the train set, and hold out 25% for the test set, which is the default.)"
      ]
    },
    {
      "cell_type": "code",
      "metadata": {
        "colab_type": "code",
        "id": "InhicZeZPX8L",
        "outputId": "78b771b8-cd58-4894-c025-119e42147efc",
        "colab": {
          "base_uri": "https://localhost:8080/",
          "height": 901
        }
      },
      "source": [
        "#1.1\n",
        "#Use scikit-learn's train/test split function to split randomly.\n",
        "#(You can include 75% of the data in the train set, and hold out 25% for the test set, which is the default.)\n",
        "'''\n",
        "target = 'made_donation_in_march_2007'\n",
        "features = train.columes.drop([target])\n",
        "\n",
        "X_train = train[features]\n",
        "y_train[] = train[made_donation_in_march_2007]\n",
        "\n",
        "X_test = test[features]\n",
        "y_test = test[made_donation_in_march_2007]\n",
        "'''\n",
        "\n",
        "from sklearn.model_selection import train_test_split\n",
        "\n",
        "X = df.drop(columns='made_donation_in_march_2007')\n",
        "y = df.made_donation_in_march_2007\n",
        "X_train, X_test, y_train, y_test = train_test_split(X, y, random_state=43)\n",
        "\n",
        "#(You can include 75% of the data in the train set, and hold out 25% for the test set, which is the default.)\n",
        "train_test_split(X, y, random_state=43, train_size=0.75)\n"
      ],
      "execution_count": 0,
      "outputs": [
        {
          "output_type": "execute_result",
          "data": {
            "text/plain": [
              "[     months_since_last_donation  ...  months_since_first_donation\n",
              " 699                          21  ...                           21\n",
              " 202                           6  ...                           11\n",
              " 636                           4  ...                           58\n",
              " 549                           4  ...                           32\n",
              " 550                           4  ...                           16\n",
              " ..                          ...  ...                          ...\n",
              " 16                            2  ...                           48\n",
              " 58                            2  ...                           81\n",
              " 277                           4  ...                           34\n",
              " 255                           2  ...                           35\n",
              " 320                          15  ...                           82\n",
              " \n",
              " [561 rows x 4 columns],\n",
              "      months_since_last_donation  ...  months_since_first_donation\n",
              " 349                          11  ...                           11\n",
              " 210                           4  ...                            4\n",
              " 11                            0  ...                            4\n",
              " 567                           4  ...                           55\n",
              " 143                           4  ...                           16\n",
              " ..                          ...  ...                          ...\n",
              " 1                             0  ...                           28\n",
              " 409                          16  ...                           16\n",
              " 389                          14  ...                           73\n",
              " 121                           4  ...                           26\n",
              " 694                          14  ...                           14\n",
              " \n",
              " [187 rows x 4 columns],\n",
              " 699    0\n",
              " 202    1\n",
              " 636    0\n",
              " 549    1\n",
              " 550    0\n",
              "       ..\n",
              " 16     1\n",
              " 58     0\n",
              " 277    0\n",
              " 255    0\n",
              " 320    0\n",
              " Name: made_donation_in_march_2007, Length: 561, dtype: int64,\n",
              " 349    0\n",
              " 210    0\n",
              " 11     0\n",
              " 567    0\n",
              " 143    0\n",
              "       ..\n",
              " 1      1\n",
              " 409    0\n",
              " 389    0\n",
              " 121    1\n",
              " 694    0\n",
              " Name: made_donation_in_march_2007, Length: 187, dtype: int64]"
            ]
          },
          "metadata": {
            "tags": []
          },
          "execution_count": 50
        }
      ]
    },
    {
      "cell_type": "markdown",
      "metadata": {
        "colab_type": "text",
        "id": "ln9fqAghRmQT"
      },
      "source": [
        "## 1.2. Use scikit-learn to fit a logistic regression model\n",
        "\n",
        "You may use any number of features"
      ]
    },
    {
      "cell_type": "code",
      "metadata": {
        "colab_type": "code",
        "id": "a2jf_deRRl64",
        "outputId": "965dc931-51b0-4bb7-d907-0c51f1fc6201",
        "colab": {
          "base_uri": "https://localhost:8080/",
          "height": 136
        }
      },
      "source": [
        "#1.2 \n",
        "import category_encoders as ce\n",
        "from sklearn.linear_model import LogisticRegressionCV\n",
        "from sklearn.preprocessing import StandardScaler\n",
        "from sklearn.impute import SimpleImputer\n",
        "\n",
        "target = 'made_donation_in_march_2007'\n",
        "features = df.columns.drop([target])\n",
        "                              \n",
        "X_val = X_test\n",
        "y_val = y_test\n",
        "print(X_train.shape, X_val.shape)\n",
        "\n",
        "encoder = ce.OneHotEncoder(use_cat_names=True)\n",
        "X_train_encoded = encoder.fit_transform(X_train)\n",
        "X_val_encoded = encoder.transform(X_val)\n",
        "print(X_train_encoded.shape, X_val_encoded.shape)\n",
        "\n",
        "imputer = SimpleImputer(strategy='mean')\n",
        "X_train_imputed = imputer.fit_transform(X_train_encoded)\n",
        "X_val_imputed = imputer.transform(X_val_encoded)\n",
        "\n",
        "scaler = StandardScaler()\n",
        "X_train_scaled = scaler.fit_transform(X_train_imputed)\n",
        "X_val_scaled = scaler.transform(X_val_imputed)\n",
        "\n",
        "model = LogisticRegressionCV(cv=5, n_jobs=-1, random_state=42)\n",
        "model.fit(X_train_scaled, y_train)\n"
      ],
      "execution_count": 0,
      "outputs": [
        {
          "output_type": "stream",
          "text": [
            "(561, 4) (187, 4)\n",
            "(561, 4) (187, 4)\n"
          ],
          "name": "stdout"
        },
        {
          "output_type": "execute_result",
          "data": {
            "text/plain": [
              "LogisticRegressionCV(Cs=10, class_weight=None, cv=5, dual=False,\n",
              "                     fit_intercept=True, intercept_scaling=1.0, l1_ratios=None,\n",
              "                     max_iter=100, multi_class='auto', n_jobs=-1, penalty='l2',\n",
              "                     random_state=42, refit=True, scoring=None, solver='lbfgs',\n",
              "                     tol=0.0001, verbose=0)"
            ]
          },
          "metadata": {
            "tags": []
          },
          "execution_count": 51
        }
      ]
    },
    {
      "cell_type": "markdown",
      "metadata": {
        "colab_type": "text",
        "id": "Ah6EhiRVSusy"
      },
      "source": [
        "## 1.3. Report classification metric: accuracy\n",
        "\n",
        "What is your model's accuracy on the test set?\n",
        "\n",
        "Don't worry if your model doesn't beat the majority class baseline. That's okay!\n",
        "\n",
        "_\"The combination of some data and an aching desire for an answer does not ensure that a reasonable answer can be extracted from a given body of data.\"_ —[John Tukey](https://en.wikiquote.org/wiki/John_Tukey)\n",
        "\n",
        "(Also, if we used recall score instead of accuracy score, then your model would almost certainly beat the baseline. We'll discuss how to choose and interpret evaluation metrics throughout this unit.)\n"
      ]
    },
    {
      "cell_type": "code",
      "metadata": {
        "colab_type": "code",
        "id": "ZfJ2NFsASt9_",
        "outputId": "5ca1fa42-eab1-4c52-aa73-a32093d34ef1",
        "colab": {
          "base_uri": "https://localhost:8080/",
          "height": 34
        }
      },
      "source": [
        "print('Validation Accuracy', model.score(X_val_scaled, y_val))"
      ],
      "execution_count": 0,
      "outputs": [
        {
          "output_type": "stream",
          "text": [
            "Validation Accuracy 0.8021390374331551\n"
          ],
          "name": "stdout"
        }
      ]
    },
    {
      "cell_type": "markdown",
      "metadata": {
        "colab_type": "text",
        "id": "xDmZn3ApOM7t"
      },
      "source": [
        "# Part 2, Regression: Predict home prices in Ames, Iowa 🏠\n",
        "\n",
        "You'll use historical housing data. ***There's a data dictionary at the bottom of the notebook.*** \n",
        "\n",
        "Run this code cell to load the dataset:\n",
        "\n",
        "\n",
        "\n"
      ]
    },
    {
      "cell_type": "code",
      "metadata": {
        "colab_type": "code",
        "id": "7ptoRG1lu7H4",
        "colab": {}
      },
      "source": [
        "import pandas as pd\n",
        "URL = 'https://drive.google.com/uc?export=download&id=1522WlEW6HFss36roD_Cd9nybqSuiVcCK'\n",
        "homes = pd.read_csv(URL)\n",
        "assert homes.shape == (2904, 47)"
      ],
      "execution_count": 0,
      "outputs": []
    },
    {
      "cell_type": "markdown",
      "metadata": {
        "colab_type": "text",
        "id": "CowG-cgZ5ZrB"
      },
      "source": [
        "## 2.1. Begin with baselines\n",
        "\n",
        "What is the Mean Absolute Error and R^2 score for a mean baseline? (You can get these estimated scores using all your data, before splitting it.)"
      ]
    },
    {
      "cell_type": "code",
      "metadata": {
        "colab_type": "code",
        "id": "TbahVr-j5ZLs",
        "outputId": "131de1b4-dc76-49c6-f4e4-debcfe967966",
        "colab": {
          "base_uri": "https://localhost:8080/",
          "height": 317
        }
      },
      "source": [
        "df = homes\n",
        "df.describe()"
      ],
      "execution_count": 0,
      "outputs": [
        {
          "output_type": "execute_result",
          "data": {
            "text/html": [
              "<div>\n",
              "<style scoped>\n",
              "    .dataframe tbody tr th:only-of-type {\n",
              "        vertical-align: middle;\n",
              "    }\n",
              "\n",
              "    .dataframe tbody tr th {\n",
              "        vertical-align: top;\n",
              "    }\n",
              "\n",
              "    .dataframe thead th {\n",
              "        text-align: right;\n",
              "    }\n",
              "</style>\n",
              "<table border=\"1\" class=\"dataframe\">\n",
              "  <thead>\n",
              "    <tr style=\"text-align: right;\">\n",
              "      <th></th>\n",
              "      <th>1st_Flr_SF</th>\n",
              "      <th>Bedroom_AbvGr</th>\n",
              "      <th>Bsmt_Full_Bath</th>\n",
              "      <th>Bsmt_Half_Bath</th>\n",
              "      <th>Full_Bath</th>\n",
              "      <th>Gr_Liv_Area</th>\n",
              "      <th>Half_Bath</th>\n",
              "      <th>Kitchen_AbvGr</th>\n",
              "      <th>Lot_Area</th>\n",
              "      <th>MS_SubClass</th>\n",
              "      <th>Mo_Sold</th>\n",
              "      <th>Overall_Cond</th>\n",
              "      <th>Overall_Qual</th>\n",
              "      <th>SalePrice</th>\n",
              "      <th>TotRms_AbvGrd</th>\n",
              "      <th>Year_Built</th>\n",
              "      <th>Year_Remod/Add</th>\n",
              "      <th>Yr_Sold</th>\n",
              "    </tr>\n",
              "  </thead>\n",
              "  <tbody>\n",
              "    <tr>\n",
              "      <th>count</th>\n",
              "      <td>2904.000000</td>\n",
              "      <td>2904.000000</td>\n",
              "      <td>2904.000000</td>\n",
              "      <td>2904.000000</td>\n",
              "      <td>2904.000000</td>\n",
              "      <td>2904.000000</td>\n",
              "      <td>2904.000000</td>\n",
              "      <td>2904.000000</td>\n",
              "      <td>2904.000000</td>\n",
              "      <td>2904.000000</td>\n",
              "      <td>2904.000000</td>\n",
              "      <td>2904.000000</td>\n",
              "      <td>2904.000000</td>\n",
              "      <td>2904.000000</td>\n",
              "      <td>2904.000000</td>\n",
              "      <td>2904.000000</td>\n",
              "      <td>2904.000000</td>\n",
              "      <td>2904.000000</td>\n",
              "    </tr>\n",
              "    <tr>\n",
              "      <th>mean</th>\n",
              "      <td>1158.257231</td>\n",
              "      <td>2.854339</td>\n",
              "      <td>0.431474</td>\n",
              "      <td>0.061639</td>\n",
              "      <td>1.562328</td>\n",
              "      <td>1497.853650</td>\n",
              "      <td>0.376722</td>\n",
              "      <td>1.044421</td>\n",
              "      <td>10130.199725</td>\n",
              "      <td>57.474174</td>\n",
              "      <td>6.206956</td>\n",
              "      <td>5.567149</td>\n",
              "      <td>6.086777</td>\n",
              "      <td>180383.689738</td>\n",
              "      <td>6.441804</td>\n",
              "      <td>1971.109504</td>\n",
              "      <td>1984.112259</td>\n",
              "      <td>2007.792011</td>\n",
              "    </tr>\n",
              "    <tr>\n",
              "      <th>std</th>\n",
              "      <td>388.351648</td>\n",
              "      <td>0.827820</td>\n",
              "      <td>0.525073</td>\n",
              "      <td>0.246202</td>\n",
              "      <td>0.551427</td>\n",
              "      <td>504.591527</td>\n",
              "      <td>0.501416</td>\n",
              "      <td>0.214260</td>\n",
              "      <td>7869.928702</td>\n",
              "      <td>42.724950</td>\n",
              "      <td>2.712204</td>\n",
              "      <td>1.113736</td>\n",
              "      <td>1.410083</td>\n",
              "      <td>79802.823684</td>\n",
              "      <td>1.573130</td>\n",
              "      <td>30.227141</td>\n",
              "      <td>20.857813</td>\n",
              "      <td>1.318719</td>\n",
              "    </tr>\n",
              "    <tr>\n",
              "      <th>min</th>\n",
              "      <td>334.000000</td>\n",
              "      <td>0.000000</td>\n",
              "      <td>0.000000</td>\n",
              "      <td>0.000000</td>\n",
              "      <td>0.000000</td>\n",
              "      <td>334.000000</td>\n",
              "      <td>0.000000</td>\n",
              "      <td>0.000000</td>\n",
              "      <td>1300.000000</td>\n",
              "      <td>20.000000</td>\n",
              "      <td>1.000000</td>\n",
              "      <td>1.000000</td>\n",
              "      <td>1.000000</td>\n",
              "      <td>12789.000000</td>\n",
              "      <td>2.000000</td>\n",
              "      <td>1872.000000</td>\n",
              "      <td>1950.000000</td>\n",
              "      <td>2006.000000</td>\n",
              "    </tr>\n",
              "    <tr>\n",
              "      <th>25%</th>\n",
              "      <td>876.750000</td>\n",
              "      <td>2.000000</td>\n",
              "      <td>0.000000</td>\n",
              "      <td>0.000000</td>\n",
              "      <td>1.000000</td>\n",
              "      <td>1124.000000</td>\n",
              "      <td>0.000000</td>\n",
              "      <td>1.000000</td>\n",
              "      <td>7424.750000</td>\n",
              "      <td>20.000000</td>\n",
              "      <td>4.000000</td>\n",
              "      <td>5.000000</td>\n",
              "      <td>5.000000</td>\n",
              "      <td>129150.000000</td>\n",
              "      <td>5.000000</td>\n",
              "      <td>1953.000000</td>\n",
              "      <td>1965.000000</td>\n",
              "      <td>2007.000000</td>\n",
              "    </tr>\n",
              "    <tr>\n",
              "      <th>50%</th>\n",
              "      <td>1083.500000</td>\n",
              "      <td>3.000000</td>\n",
              "      <td>0.000000</td>\n",
              "      <td>0.000000</td>\n",
              "      <td>2.000000</td>\n",
              "      <td>1440.500000</td>\n",
              "      <td>0.000000</td>\n",
              "      <td>1.000000</td>\n",
              "      <td>9429.000000</td>\n",
              "      <td>50.000000</td>\n",
              "      <td>6.000000</td>\n",
              "      <td>5.000000</td>\n",
              "      <td>6.000000</td>\n",
              "      <td>160000.000000</td>\n",
              "      <td>6.000000</td>\n",
              "      <td>1973.000000</td>\n",
              "      <td>1993.000000</td>\n",
              "      <td>2008.000000</td>\n",
              "    </tr>\n",
              "    <tr>\n",
              "      <th>75%</th>\n",
              "      <td>1383.000000</td>\n",
              "      <td>3.000000</td>\n",
              "      <td>1.000000</td>\n",
              "      <td>0.000000</td>\n",
              "      <td>2.000000</td>\n",
              "      <td>1740.500000</td>\n",
              "      <td>1.000000</td>\n",
              "      <td>1.000000</td>\n",
              "      <td>11516.250000</td>\n",
              "      <td>70.000000</td>\n",
              "      <td>8.000000</td>\n",
              "      <td>6.000000</td>\n",
              "      <td>7.000000</td>\n",
              "      <td>213000.000000</td>\n",
              "      <td>7.000000</td>\n",
              "      <td>2000.000000</td>\n",
              "      <td>2004.000000</td>\n",
              "      <td>2009.000000</td>\n",
              "    </tr>\n",
              "    <tr>\n",
              "      <th>max</th>\n",
              "      <td>5095.000000</td>\n",
              "      <td>8.000000</td>\n",
              "      <td>3.000000</td>\n",
              "      <td>2.000000</td>\n",
              "      <td>4.000000</td>\n",
              "      <td>5642.000000</td>\n",
              "      <td>2.000000</td>\n",
              "      <td>3.000000</td>\n",
              "      <td>215245.000000</td>\n",
              "      <td>190.000000</td>\n",
              "      <td>12.000000</td>\n",
              "      <td>9.000000</td>\n",
              "      <td>10.000000</td>\n",
              "      <td>755000.000000</td>\n",
              "      <td>15.000000</td>\n",
              "      <td>2010.000000</td>\n",
              "      <td>2010.000000</td>\n",
              "      <td>2010.000000</td>\n",
              "    </tr>\n",
              "  </tbody>\n",
              "</table>\n",
              "</div>"
            ],
            "text/plain": [
              "        1st_Flr_SF  Bedroom_AbvGr  ...  Year_Remod/Add      Yr_Sold\n",
              "count  2904.000000    2904.000000  ...     2904.000000  2904.000000\n",
              "mean   1158.257231       2.854339  ...     1984.112259  2007.792011\n",
              "std     388.351648       0.827820  ...       20.857813     1.318719\n",
              "min     334.000000       0.000000  ...     1950.000000  2006.000000\n",
              "25%     876.750000       2.000000  ...     1965.000000  2007.000000\n",
              "50%    1083.500000       3.000000  ...     1993.000000  2008.000000\n",
              "75%    1383.000000       3.000000  ...     2004.000000  2009.000000\n",
              "max    5095.000000       8.000000  ...     2010.000000  2010.000000\n",
              "\n",
              "[8 rows x 18 columns]"
            ]
          },
          "metadata": {
            "tags": []
          },
          "execution_count": 54
        }
      ]
    },
    {
      "cell_type": "code",
      "metadata": {
        "id": "UuiUTFaTQORv",
        "colab_type": "code",
        "outputId": "d19d514b-6010-4f01-bf6e-f9ff15390af0",
        "colab": {
          "base_uri": "https://localhost:8080/",
          "height": 34
        }
      },
      "source": [
        "df.shape"
      ],
      "execution_count": 0,
      "outputs": [
        {
          "output_type": "execute_result",
          "data": {
            "text/plain": [
              "(2904, 47)"
            ]
          },
          "metadata": {
            "tags": []
          },
          "execution_count": 55
        }
      ]
    },
    {
      "cell_type": "code",
      "metadata": {
        "id": "wCO49M4ROjgt",
        "colab_type": "code",
        "outputId": "13ecbe85-dc52-4f31-f560-5bcb76f2532c",
        "colab": {
          "base_uri": "https://localhost:8080/",
          "height": 224
        }
      },
      "source": [
        "df.head()"
      ],
      "execution_count": 0,
      "outputs": [
        {
          "output_type": "execute_result",
          "data": {
            "text/html": [
              "<div>\n",
              "<style scoped>\n",
              "    .dataframe tbody tr th:only-of-type {\n",
              "        vertical-align: middle;\n",
              "    }\n",
              "\n",
              "    .dataframe tbody tr th {\n",
              "        vertical-align: top;\n",
              "    }\n",
              "\n",
              "    .dataframe thead th {\n",
              "        text-align: right;\n",
              "    }\n",
              "</style>\n",
              "<table border=\"1\" class=\"dataframe\">\n",
              "  <thead>\n",
              "    <tr style=\"text-align: right;\">\n",
              "      <th></th>\n",
              "      <th>1st_Flr_SF</th>\n",
              "      <th>Bedroom_AbvGr</th>\n",
              "      <th>Bldg_Type</th>\n",
              "      <th>Bsmt_Full_Bath</th>\n",
              "      <th>Bsmt_Half_Bath</th>\n",
              "      <th>Central_Air</th>\n",
              "      <th>Condition_1</th>\n",
              "      <th>Condition_2</th>\n",
              "      <th>Electrical</th>\n",
              "      <th>Exter_Cond</th>\n",
              "      <th>Exter_Qual</th>\n",
              "      <th>Exterior_1st</th>\n",
              "      <th>Exterior_2nd</th>\n",
              "      <th>Foundation</th>\n",
              "      <th>Full_Bath</th>\n",
              "      <th>Functional</th>\n",
              "      <th>Gr_Liv_Area</th>\n",
              "      <th>Half_Bath</th>\n",
              "      <th>Heating</th>\n",
              "      <th>Heating_QC</th>\n",
              "      <th>House_Style</th>\n",
              "      <th>Kitchen_AbvGr</th>\n",
              "      <th>Kitchen_Qual</th>\n",
              "      <th>Land_Contour</th>\n",
              "      <th>Land_Slope</th>\n",
              "      <th>Lot_Area</th>\n",
              "      <th>Lot_Config</th>\n",
              "      <th>Lot_Shape</th>\n",
              "      <th>MS_SubClass</th>\n",
              "      <th>MS_Zoning</th>\n",
              "      <th>Mas_Vnr_Type</th>\n",
              "      <th>Mo_Sold</th>\n",
              "      <th>Neighborhood</th>\n",
              "      <th>Overall_Cond</th>\n",
              "      <th>Overall_Qual</th>\n",
              "      <th>Paved_Drive</th>\n",
              "      <th>Roof_Matl</th>\n",
              "      <th>Roof_Style</th>\n",
              "      <th>SalePrice</th>\n",
              "      <th>Sale_Condition</th>\n",
              "      <th>Sale_Type</th>\n",
              "      <th>Street</th>\n",
              "      <th>TotRms_AbvGrd</th>\n",
              "      <th>Utilities</th>\n",
              "      <th>Year_Built</th>\n",
              "      <th>Year_Remod/Add</th>\n",
              "      <th>Yr_Sold</th>\n",
              "    </tr>\n",
              "  </thead>\n",
              "  <tbody>\n",
              "    <tr>\n",
              "      <th>0</th>\n",
              "      <td>1656</td>\n",
              "      <td>3</td>\n",
              "      <td>1Fam</td>\n",
              "      <td>1.0</td>\n",
              "      <td>0.0</td>\n",
              "      <td>Y</td>\n",
              "      <td>Norm</td>\n",
              "      <td>Norm</td>\n",
              "      <td>SBrkr</td>\n",
              "      <td>TA</td>\n",
              "      <td>TA</td>\n",
              "      <td>BrkFace</td>\n",
              "      <td>Plywood</td>\n",
              "      <td>CBlock</td>\n",
              "      <td>1</td>\n",
              "      <td>Typ</td>\n",
              "      <td>1656</td>\n",
              "      <td>0</td>\n",
              "      <td>GasA</td>\n",
              "      <td>Fa</td>\n",
              "      <td>1Story</td>\n",
              "      <td>1</td>\n",
              "      <td>TA</td>\n",
              "      <td>Lvl</td>\n",
              "      <td>Gtl</td>\n",
              "      <td>31770</td>\n",
              "      <td>Corner</td>\n",
              "      <td>IR1</td>\n",
              "      <td>20</td>\n",
              "      <td>RL</td>\n",
              "      <td>Stone</td>\n",
              "      <td>5</td>\n",
              "      <td>NAmes</td>\n",
              "      <td>5</td>\n",
              "      <td>6</td>\n",
              "      <td>P</td>\n",
              "      <td>CompShg</td>\n",
              "      <td>Hip</td>\n",
              "      <td>215000</td>\n",
              "      <td>Normal</td>\n",
              "      <td>WD</td>\n",
              "      <td>Pave</td>\n",
              "      <td>7</td>\n",
              "      <td>AllPub</td>\n",
              "      <td>1960</td>\n",
              "      <td>1960</td>\n",
              "      <td>2010</td>\n",
              "    </tr>\n",
              "    <tr>\n",
              "      <th>1</th>\n",
              "      <td>896</td>\n",
              "      <td>2</td>\n",
              "      <td>1Fam</td>\n",
              "      <td>0.0</td>\n",
              "      <td>0.0</td>\n",
              "      <td>Y</td>\n",
              "      <td>Feedr</td>\n",
              "      <td>Norm</td>\n",
              "      <td>SBrkr</td>\n",
              "      <td>TA</td>\n",
              "      <td>TA</td>\n",
              "      <td>VinylSd</td>\n",
              "      <td>VinylSd</td>\n",
              "      <td>CBlock</td>\n",
              "      <td>1</td>\n",
              "      <td>Typ</td>\n",
              "      <td>896</td>\n",
              "      <td>0</td>\n",
              "      <td>GasA</td>\n",
              "      <td>TA</td>\n",
              "      <td>1Story</td>\n",
              "      <td>1</td>\n",
              "      <td>TA</td>\n",
              "      <td>Lvl</td>\n",
              "      <td>Gtl</td>\n",
              "      <td>11622</td>\n",
              "      <td>Inside</td>\n",
              "      <td>Reg</td>\n",
              "      <td>20</td>\n",
              "      <td>RH</td>\n",
              "      <td>None</td>\n",
              "      <td>6</td>\n",
              "      <td>NAmes</td>\n",
              "      <td>6</td>\n",
              "      <td>5</td>\n",
              "      <td>Y</td>\n",
              "      <td>CompShg</td>\n",
              "      <td>Gable</td>\n",
              "      <td>105000</td>\n",
              "      <td>Normal</td>\n",
              "      <td>WD</td>\n",
              "      <td>Pave</td>\n",
              "      <td>5</td>\n",
              "      <td>AllPub</td>\n",
              "      <td>1961</td>\n",
              "      <td>1961</td>\n",
              "      <td>2010</td>\n",
              "    </tr>\n",
              "    <tr>\n",
              "      <th>2</th>\n",
              "      <td>1329</td>\n",
              "      <td>3</td>\n",
              "      <td>1Fam</td>\n",
              "      <td>0.0</td>\n",
              "      <td>0.0</td>\n",
              "      <td>Y</td>\n",
              "      <td>Norm</td>\n",
              "      <td>Norm</td>\n",
              "      <td>SBrkr</td>\n",
              "      <td>TA</td>\n",
              "      <td>TA</td>\n",
              "      <td>Wd Sdng</td>\n",
              "      <td>Wd Sdng</td>\n",
              "      <td>CBlock</td>\n",
              "      <td>1</td>\n",
              "      <td>Typ</td>\n",
              "      <td>1329</td>\n",
              "      <td>1</td>\n",
              "      <td>GasA</td>\n",
              "      <td>TA</td>\n",
              "      <td>1Story</td>\n",
              "      <td>1</td>\n",
              "      <td>Gd</td>\n",
              "      <td>Lvl</td>\n",
              "      <td>Gtl</td>\n",
              "      <td>14267</td>\n",
              "      <td>Corner</td>\n",
              "      <td>IR1</td>\n",
              "      <td>20</td>\n",
              "      <td>RL</td>\n",
              "      <td>BrkFace</td>\n",
              "      <td>6</td>\n",
              "      <td>NAmes</td>\n",
              "      <td>6</td>\n",
              "      <td>6</td>\n",
              "      <td>Y</td>\n",
              "      <td>CompShg</td>\n",
              "      <td>Hip</td>\n",
              "      <td>172000</td>\n",
              "      <td>Normal</td>\n",
              "      <td>WD</td>\n",
              "      <td>Pave</td>\n",
              "      <td>6</td>\n",
              "      <td>AllPub</td>\n",
              "      <td>1958</td>\n",
              "      <td>1958</td>\n",
              "      <td>2010</td>\n",
              "    </tr>\n",
              "    <tr>\n",
              "      <th>3</th>\n",
              "      <td>2110</td>\n",
              "      <td>3</td>\n",
              "      <td>1Fam</td>\n",
              "      <td>1.0</td>\n",
              "      <td>0.0</td>\n",
              "      <td>Y</td>\n",
              "      <td>Norm</td>\n",
              "      <td>Norm</td>\n",
              "      <td>SBrkr</td>\n",
              "      <td>TA</td>\n",
              "      <td>Gd</td>\n",
              "      <td>BrkFace</td>\n",
              "      <td>BrkFace</td>\n",
              "      <td>CBlock</td>\n",
              "      <td>2</td>\n",
              "      <td>Typ</td>\n",
              "      <td>2110</td>\n",
              "      <td>1</td>\n",
              "      <td>GasA</td>\n",
              "      <td>Ex</td>\n",
              "      <td>1Story</td>\n",
              "      <td>1</td>\n",
              "      <td>Ex</td>\n",
              "      <td>Lvl</td>\n",
              "      <td>Gtl</td>\n",
              "      <td>11160</td>\n",
              "      <td>Corner</td>\n",
              "      <td>Reg</td>\n",
              "      <td>20</td>\n",
              "      <td>RL</td>\n",
              "      <td>None</td>\n",
              "      <td>4</td>\n",
              "      <td>NAmes</td>\n",
              "      <td>5</td>\n",
              "      <td>7</td>\n",
              "      <td>Y</td>\n",
              "      <td>CompShg</td>\n",
              "      <td>Hip</td>\n",
              "      <td>244000</td>\n",
              "      <td>Normal</td>\n",
              "      <td>WD</td>\n",
              "      <td>Pave</td>\n",
              "      <td>8</td>\n",
              "      <td>AllPub</td>\n",
              "      <td>1968</td>\n",
              "      <td>1968</td>\n",
              "      <td>2010</td>\n",
              "    </tr>\n",
              "    <tr>\n",
              "      <th>4</th>\n",
              "      <td>928</td>\n",
              "      <td>3</td>\n",
              "      <td>1Fam</td>\n",
              "      <td>0.0</td>\n",
              "      <td>0.0</td>\n",
              "      <td>Y</td>\n",
              "      <td>Norm</td>\n",
              "      <td>Norm</td>\n",
              "      <td>SBrkr</td>\n",
              "      <td>TA</td>\n",
              "      <td>TA</td>\n",
              "      <td>VinylSd</td>\n",
              "      <td>VinylSd</td>\n",
              "      <td>PConc</td>\n",
              "      <td>2</td>\n",
              "      <td>Typ</td>\n",
              "      <td>1629</td>\n",
              "      <td>1</td>\n",
              "      <td>GasA</td>\n",
              "      <td>Gd</td>\n",
              "      <td>2Story</td>\n",
              "      <td>1</td>\n",
              "      <td>TA</td>\n",
              "      <td>Lvl</td>\n",
              "      <td>Gtl</td>\n",
              "      <td>13830</td>\n",
              "      <td>Inside</td>\n",
              "      <td>IR1</td>\n",
              "      <td>60</td>\n",
              "      <td>RL</td>\n",
              "      <td>None</td>\n",
              "      <td>3</td>\n",
              "      <td>Gilbert</td>\n",
              "      <td>5</td>\n",
              "      <td>5</td>\n",
              "      <td>Y</td>\n",
              "      <td>CompShg</td>\n",
              "      <td>Gable</td>\n",
              "      <td>189900</td>\n",
              "      <td>Normal</td>\n",
              "      <td>WD</td>\n",
              "      <td>Pave</td>\n",
              "      <td>6</td>\n",
              "      <td>AllPub</td>\n",
              "      <td>1997</td>\n",
              "      <td>1998</td>\n",
              "      <td>2010</td>\n",
              "    </tr>\n",
              "  </tbody>\n",
              "</table>\n",
              "</div>"
            ],
            "text/plain": [
              "   1st_Flr_SF  Bedroom_AbvGr Bldg_Type  ...  Year_Built  Year_Remod/Add Yr_Sold\n",
              "0        1656              3      1Fam  ...        1960            1960    2010\n",
              "1         896              2      1Fam  ...        1961            1961    2010\n",
              "2        1329              3      1Fam  ...        1958            1958    2010\n",
              "3        2110              3      1Fam  ...        1968            1968    2010\n",
              "4         928              3      1Fam  ...        1997            1998    2010\n",
              "\n",
              "[5 rows x 47 columns]"
            ]
          },
          "metadata": {
            "tags": []
          },
          "execution_count": 56
        }
      ]
    },
    {
      "cell_type": "code",
      "metadata": {
        "id": "gdDH6usBguHM",
        "colab_type": "code",
        "outputId": "1afd0adb-829f-4260-c3c0-96bc7fbca5ab",
        "colab": {
          "base_uri": "https://localhost:8080/",
          "height": 439
        }
      },
      "source": [
        "df"
      ],
      "execution_count": 0,
      "outputs": [
        {
          "output_type": "execute_result",
          "data": {
            "text/html": [
              "<div>\n",
              "<style scoped>\n",
              "    .dataframe tbody tr th:only-of-type {\n",
              "        vertical-align: middle;\n",
              "    }\n",
              "\n",
              "    .dataframe tbody tr th {\n",
              "        vertical-align: top;\n",
              "    }\n",
              "\n",
              "    .dataframe thead th {\n",
              "        text-align: right;\n",
              "    }\n",
              "</style>\n",
              "<table border=\"1\" class=\"dataframe\">\n",
              "  <thead>\n",
              "    <tr style=\"text-align: right;\">\n",
              "      <th></th>\n",
              "      <th>1st_Flr_SF</th>\n",
              "      <th>Bedroom_AbvGr</th>\n",
              "      <th>Bldg_Type</th>\n",
              "      <th>Bsmt_Full_Bath</th>\n",
              "      <th>Bsmt_Half_Bath</th>\n",
              "      <th>Central_Air</th>\n",
              "      <th>Condition_1</th>\n",
              "      <th>Condition_2</th>\n",
              "      <th>Electrical</th>\n",
              "      <th>Exter_Cond</th>\n",
              "      <th>Exter_Qual</th>\n",
              "      <th>Exterior_1st</th>\n",
              "      <th>Exterior_2nd</th>\n",
              "      <th>Foundation</th>\n",
              "      <th>Full_Bath</th>\n",
              "      <th>Functional</th>\n",
              "      <th>Gr_Liv_Area</th>\n",
              "      <th>Half_Bath</th>\n",
              "      <th>Heating</th>\n",
              "      <th>Heating_QC</th>\n",
              "      <th>House_Style</th>\n",
              "      <th>Kitchen_AbvGr</th>\n",
              "      <th>Kitchen_Qual</th>\n",
              "      <th>Land_Contour</th>\n",
              "      <th>Land_Slope</th>\n",
              "      <th>Lot_Area</th>\n",
              "      <th>Lot_Config</th>\n",
              "      <th>Lot_Shape</th>\n",
              "      <th>MS_SubClass</th>\n",
              "      <th>MS_Zoning</th>\n",
              "      <th>Mas_Vnr_Type</th>\n",
              "      <th>Mo_Sold</th>\n",
              "      <th>Neighborhood</th>\n",
              "      <th>Overall_Cond</th>\n",
              "      <th>Overall_Qual</th>\n",
              "      <th>Paved_Drive</th>\n",
              "      <th>Roof_Matl</th>\n",
              "      <th>Roof_Style</th>\n",
              "      <th>SalePrice</th>\n",
              "      <th>Sale_Condition</th>\n",
              "      <th>Sale_Type</th>\n",
              "      <th>Street</th>\n",
              "      <th>TotRms_AbvGrd</th>\n",
              "      <th>Utilities</th>\n",
              "      <th>Year_Built</th>\n",
              "      <th>Year_Remod/Add</th>\n",
              "      <th>Yr_Sold</th>\n",
              "    </tr>\n",
              "  </thead>\n",
              "  <tbody>\n",
              "    <tr>\n",
              "      <th>0</th>\n",
              "      <td>1656</td>\n",
              "      <td>3</td>\n",
              "      <td>1Fam</td>\n",
              "      <td>1.0</td>\n",
              "      <td>0.0</td>\n",
              "      <td>Y</td>\n",
              "      <td>Norm</td>\n",
              "      <td>Norm</td>\n",
              "      <td>SBrkr</td>\n",
              "      <td>TA</td>\n",
              "      <td>TA</td>\n",
              "      <td>BrkFace</td>\n",
              "      <td>Plywood</td>\n",
              "      <td>CBlock</td>\n",
              "      <td>1</td>\n",
              "      <td>Typ</td>\n",
              "      <td>1656</td>\n",
              "      <td>0</td>\n",
              "      <td>GasA</td>\n",
              "      <td>Fa</td>\n",
              "      <td>1Story</td>\n",
              "      <td>1</td>\n",
              "      <td>TA</td>\n",
              "      <td>Lvl</td>\n",
              "      <td>Gtl</td>\n",
              "      <td>31770</td>\n",
              "      <td>Corner</td>\n",
              "      <td>IR1</td>\n",
              "      <td>20</td>\n",
              "      <td>RL</td>\n",
              "      <td>Stone</td>\n",
              "      <td>5</td>\n",
              "      <td>NAmes</td>\n",
              "      <td>5</td>\n",
              "      <td>6</td>\n",
              "      <td>P</td>\n",
              "      <td>CompShg</td>\n",
              "      <td>Hip</td>\n",
              "      <td>215000</td>\n",
              "      <td>Normal</td>\n",
              "      <td>WD</td>\n",
              "      <td>Pave</td>\n",
              "      <td>7</td>\n",
              "      <td>AllPub</td>\n",
              "      <td>1960</td>\n",
              "      <td>1960</td>\n",
              "      <td>2010</td>\n",
              "    </tr>\n",
              "    <tr>\n",
              "      <th>1</th>\n",
              "      <td>896</td>\n",
              "      <td>2</td>\n",
              "      <td>1Fam</td>\n",
              "      <td>0.0</td>\n",
              "      <td>0.0</td>\n",
              "      <td>Y</td>\n",
              "      <td>Feedr</td>\n",
              "      <td>Norm</td>\n",
              "      <td>SBrkr</td>\n",
              "      <td>TA</td>\n",
              "      <td>TA</td>\n",
              "      <td>VinylSd</td>\n",
              "      <td>VinylSd</td>\n",
              "      <td>CBlock</td>\n",
              "      <td>1</td>\n",
              "      <td>Typ</td>\n",
              "      <td>896</td>\n",
              "      <td>0</td>\n",
              "      <td>GasA</td>\n",
              "      <td>TA</td>\n",
              "      <td>1Story</td>\n",
              "      <td>1</td>\n",
              "      <td>TA</td>\n",
              "      <td>Lvl</td>\n",
              "      <td>Gtl</td>\n",
              "      <td>11622</td>\n",
              "      <td>Inside</td>\n",
              "      <td>Reg</td>\n",
              "      <td>20</td>\n",
              "      <td>RH</td>\n",
              "      <td>None</td>\n",
              "      <td>6</td>\n",
              "      <td>NAmes</td>\n",
              "      <td>6</td>\n",
              "      <td>5</td>\n",
              "      <td>Y</td>\n",
              "      <td>CompShg</td>\n",
              "      <td>Gable</td>\n",
              "      <td>105000</td>\n",
              "      <td>Normal</td>\n",
              "      <td>WD</td>\n",
              "      <td>Pave</td>\n",
              "      <td>5</td>\n",
              "      <td>AllPub</td>\n",
              "      <td>1961</td>\n",
              "      <td>1961</td>\n",
              "      <td>2010</td>\n",
              "    </tr>\n",
              "    <tr>\n",
              "      <th>2</th>\n",
              "      <td>1329</td>\n",
              "      <td>3</td>\n",
              "      <td>1Fam</td>\n",
              "      <td>0.0</td>\n",
              "      <td>0.0</td>\n",
              "      <td>Y</td>\n",
              "      <td>Norm</td>\n",
              "      <td>Norm</td>\n",
              "      <td>SBrkr</td>\n",
              "      <td>TA</td>\n",
              "      <td>TA</td>\n",
              "      <td>Wd Sdng</td>\n",
              "      <td>Wd Sdng</td>\n",
              "      <td>CBlock</td>\n",
              "      <td>1</td>\n",
              "      <td>Typ</td>\n",
              "      <td>1329</td>\n",
              "      <td>1</td>\n",
              "      <td>GasA</td>\n",
              "      <td>TA</td>\n",
              "      <td>1Story</td>\n",
              "      <td>1</td>\n",
              "      <td>Gd</td>\n",
              "      <td>Lvl</td>\n",
              "      <td>Gtl</td>\n",
              "      <td>14267</td>\n",
              "      <td>Corner</td>\n",
              "      <td>IR1</td>\n",
              "      <td>20</td>\n",
              "      <td>RL</td>\n",
              "      <td>BrkFace</td>\n",
              "      <td>6</td>\n",
              "      <td>NAmes</td>\n",
              "      <td>6</td>\n",
              "      <td>6</td>\n",
              "      <td>Y</td>\n",
              "      <td>CompShg</td>\n",
              "      <td>Hip</td>\n",
              "      <td>172000</td>\n",
              "      <td>Normal</td>\n",
              "      <td>WD</td>\n",
              "      <td>Pave</td>\n",
              "      <td>6</td>\n",
              "      <td>AllPub</td>\n",
              "      <td>1958</td>\n",
              "      <td>1958</td>\n",
              "      <td>2010</td>\n",
              "    </tr>\n",
              "    <tr>\n",
              "      <th>3</th>\n",
              "      <td>2110</td>\n",
              "      <td>3</td>\n",
              "      <td>1Fam</td>\n",
              "      <td>1.0</td>\n",
              "      <td>0.0</td>\n",
              "      <td>Y</td>\n",
              "      <td>Norm</td>\n",
              "      <td>Norm</td>\n",
              "      <td>SBrkr</td>\n",
              "      <td>TA</td>\n",
              "      <td>Gd</td>\n",
              "      <td>BrkFace</td>\n",
              "      <td>BrkFace</td>\n",
              "      <td>CBlock</td>\n",
              "      <td>2</td>\n",
              "      <td>Typ</td>\n",
              "      <td>2110</td>\n",
              "      <td>1</td>\n",
              "      <td>GasA</td>\n",
              "      <td>Ex</td>\n",
              "      <td>1Story</td>\n",
              "      <td>1</td>\n",
              "      <td>Ex</td>\n",
              "      <td>Lvl</td>\n",
              "      <td>Gtl</td>\n",
              "      <td>11160</td>\n",
              "      <td>Corner</td>\n",
              "      <td>Reg</td>\n",
              "      <td>20</td>\n",
              "      <td>RL</td>\n",
              "      <td>None</td>\n",
              "      <td>4</td>\n",
              "      <td>NAmes</td>\n",
              "      <td>5</td>\n",
              "      <td>7</td>\n",
              "      <td>Y</td>\n",
              "      <td>CompShg</td>\n",
              "      <td>Hip</td>\n",
              "      <td>244000</td>\n",
              "      <td>Normal</td>\n",
              "      <td>WD</td>\n",
              "      <td>Pave</td>\n",
              "      <td>8</td>\n",
              "      <td>AllPub</td>\n",
              "      <td>1968</td>\n",
              "      <td>1968</td>\n",
              "      <td>2010</td>\n",
              "    </tr>\n",
              "    <tr>\n",
              "      <th>4</th>\n",
              "      <td>928</td>\n",
              "      <td>3</td>\n",
              "      <td>1Fam</td>\n",
              "      <td>0.0</td>\n",
              "      <td>0.0</td>\n",
              "      <td>Y</td>\n",
              "      <td>Norm</td>\n",
              "      <td>Norm</td>\n",
              "      <td>SBrkr</td>\n",
              "      <td>TA</td>\n",
              "      <td>TA</td>\n",
              "      <td>VinylSd</td>\n",
              "      <td>VinylSd</td>\n",
              "      <td>PConc</td>\n",
              "      <td>2</td>\n",
              "      <td>Typ</td>\n",
              "      <td>1629</td>\n",
              "      <td>1</td>\n",
              "      <td>GasA</td>\n",
              "      <td>Gd</td>\n",
              "      <td>2Story</td>\n",
              "      <td>1</td>\n",
              "      <td>TA</td>\n",
              "      <td>Lvl</td>\n",
              "      <td>Gtl</td>\n",
              "      <td>13830</td>\n",
              "      <td>Inside</td>\n",
              "      <td>IR1</td>\n",
              "      <td>60</td>\n",
              "      <td>RL</td>\n",
              "      <td>None</td>\n",
              "      <td>3</td>\n",
              "      <td>Gilbert</td>\n",
              "      <td>5</td>\n",
              "      <td>5</td>\n",
              "      <td>Y</td>\n",
              "      <td>CompShg</td>\n",
              "      <td>Gable</td>\n",
              "      <td>189900</td>\n",
              "      <td>Normal</td>\n",
              "      <td>WD</td>\n",
              "      <td>Pave</td>\n",
              "      <td>6</td>\n",
              "      <td>AllPub</td>\n",
              "      <td>1997</td>\n",
              "      <td>1998</td>\n",
              "      <td>2010</td>\n",
              "    </tr>\n",
              "    <tr>\n",
              "      <th>...</th>\n",
              "      <td>...</td>\n",
              "      <td>...</td>\n",
              "      <td>...</td>\n",
              "      <td>...</td>\n",
              "      <td>...</td>\n",
              "      <td>...</td>\n",
              "      <td>...</td>\n",
              "      <td>...</td>\n",
              "      <td>...</td>\n",
              "      <td>...</td>\n",
              "      <td>...</td>\n",
              "      <td>...</td>\n",
              "      <td>...</td>\n",
              "      <td>...</td>\n",
              "      <td>...</td>\n",
              "      <td>...</td>\n",
              "      <td>...</td>\n",
              "      <td>...</td>\n",
              "      <td>...</td>\n",
              "      <td>...</td>\n",
              "      <td>...</td>\n",
              "      <td>...</td>\n",
              "      <td>...</td>\n",
              "      <td>...</td>\n",
              "      <td>...</td>\n",
              "      <td>...</td>\n",
              "      <td>...</td>\n",
              "      <td>...</td>\n",
              "      <td>...</td>\n",
              "      <td>...</td>\n",
              "      <td>...</td>\n",
              "      <td>...</td>\n",
              "      <td>...</td>\n",
              "      <td>...</td>\n",
              "      <td>...</td>\n",
              "      <td>...</td>\n",
              "      <td>...</td>\n",
              "      <td>...</td>\n",
              "      <td>...</td>\n",
              "      <td>...</td>\n",
              "      <td>...</td>\n",
              "      <td>...</td>\n",
              "      <td>...</td>\n",
              "      <td>...</td>\n",
              "      <td>...</td>\n",
              "      <td>...</td>\n",
              "      <td>...</td>\n",
              "    </tr>\n",
              "    <tr>\n",
              "      <th>2899</th>\n",
              "      <td>1003</td>\n",
              "      <td>3</td>\n",
              "      <td>1Fam</td>\n",
              "      <td>1.0</td>\n",
              "      <td>0.0</td>\n",
              "      <td>Y</td>\n",
              "      <td>Norm</td>\n",
              "      <td>Norm</td>\n",
              "      <td>SBrkr</td>\n",
              "      <td>TA</td>\n",
              "      <td>TA</td>\n",
              "      <td>HdBoard</td>\n",
              "      <td>HdBoard</td>\n",
              "      <td>CBlock</td>\n",
              "      <td>1</td>\n",
              "      <td>Typ</td>\n",
              "      <td>1003</td>\n",
              "      <td>0</td>\n",
              "      <td>GasA</td>\n",
              "      <td>TA</td>\n",
              "      <td>SLvl</td>\n",
              "      <td>1</td>\n",
              "      <td>TA</td>\n",
              "      <td>Lvl</td>\n",
              "      <td>Gtl</td>\n",
              "      <td>7937</td>\n",
              "      <td>CulDSac</td>\n",
              "      <td>IR1</td>\n",
              "      <td>80</td>\n",
              "      <td>RL</td>\n",
              "      <td>None</td>\n",
              "      <td>3</td>\n",
              "      <td>Mitchel</td>\n",
              "      <td>6</td>\n",
              "      <td>6</td>\n",
              "      <td>Y</td>\n",
              "      <td>CompShg</td>\n",
              "      <td>Gable</td>\n",
              "      <td>142500</td>\n",
              "      <td>Normal</td>\n",
              "      <td>WD</td>\n",
              "      <td>Pave</td>\n",
              "      <td>6</td>\n",
              "      <td>AllPub</td>\n",
              "      <td>1984</td>\n",
              "      <td>1984</td>\n",
              "      <td>2006</td>\n",
              "    </tr>\n",
              "    <tr>\n",
              "      <th>2900</th>\n",
              "      <td>902</td>\n",
              "      <td>2</td>\n",
              "      <td>1Fam</td>\n",
              "      <td>1.0</td>\n",
              "      <td>0.0</td>\n",
              "      <td>Y</td>\n",
              "      <td>Norm</td>\n",
              "      <td>Norm</td>\n",
              "      <td>SBrkr</td>\n",
              "      <td>TA</td>\n",
              "      <td>TA</td>\n",
              "      <td>HdBoard</td>\n",
              "      <td>HdBoard</td>\n",
              "      <td>CBlock</td>\n",
              "      <td>1</td>\n",
              "      <td>Typ</td>\n",
              "      <td>902</td>\n",
              "      <td>0</td>\n",
              "      <td>GasA</td>\n",
              "      <td>TA</td>\n",
              "      <td>1Story</td>\n",
              "      <td>1</td>\n",
              "      <td>TA</td>\n",
              "      <td>Low</td>\n",
              "      <td>Mod</td>\n",
              "      <td>8885</td>\n",
              "      <td>Inside</td>\n",
              "      <td>IR1</td>\n",
              "      <td>20</td>\n",
              "      <td>RL</td>\n",
              "      <td>None</td>\n",
              "      <td>6</td>\n",
              "      <td>Mitchel</td>\n",
              "      <td>5</td>\n",
              "      <td>5</td>\n",
              "      <td>Y</td>\n",
              "      <td>CompShg</td>\n",
              "      <td>Gable</td>\n",
              "      <td>131000</td>\n",
              "      <td>Normal</td>\n",
              "      <td>WD</td>\n",
              "      <td>Pave</td>\n",
              "      <td>5</td>\n",
              "      <td>AllPub</td>\n",
              "      <td>1983</td>\n",
              "      <td>1983</td>\n",
              "      <td>2006</td>\n",
              "    </tr>\n",
              "    <tr>\n",
              "      <th>2901</th>\n",
              "      <td>970</td>\n",
              "      <td>3</td>\n",
              "      <td>1Fam</td>\n",
              "      <td>0.0</td>\n",
              "      <td>1.0</td>\n",
              "      <td>Y</td>\n",
              "      <td>Norm</td>\n",
              "      <td>Norm</td>\n",
              "      <td>SBrkr</td>\n",
              "      <td>TA</td>\n",
              "      <td>TA</td>\n",
              "      <td>HdBoard</td>\n",
              "      <td>Wd Shng</td>\n",
              "      <td>PConc</td>\n",
              "      <td>1</td>\n",
              "      <td>Typ</td>\n",
              "      <td>970</td>\n",
              "      <td>0</td>\n",
              "      <td>GasA</td>\n",
              "      <td>TA</td>\n",
              "      <td>SFoyer</td>\n",
              "      <td>1</td>\n",
              "      <td>TA</td>\n",
              "      <td>Lvl</td>\n",
              "      <td>Gtl</td>\n",
              "      <td>10441</td>\n",
              "      <td>Inside</td>\n",
              "      <td>Reg</td>\n",
              "      <td>85</td>\n",
              "      <td>RL</td>\n",
              "      <td>None</td>\n",
              "      <td>7</td>\n",
              "      <td>Mitchel</td>\n",
              "      <td>5</td>\n",
              "      <td>5</td>\n",
              "      <td>Y</td>\n",
              "      <td>CompShg</td>\n",
              "      <td>Gable</td>\n",
              "      <td>132000</td>\n",
              "      <td>Normal</td>\n",
              "      <td>WD</td>\n",
              "      <td>Pave</td>\n",
              "      <td>6</td>\n",
              "      <td>AllPub</td>\n",
              "      <td>1992</td>\n",
              "      <td>1992</td>\n",
              "      <td>2006</td>\n",
              "    </tr>\n",
              "    <tr>\n",
              "      <th>2902</th>\n",
              "      <td>1389</td>\n",
              "      <td>2</td>\n",
              "      <td>1Fam</td>\n",
              "      <td>1.0</td>\n",
              "      <td>0.0</td>\n",
              "      <td>Y</td>\n",
              "      <td>Norm</td>\n",
              "      <td>Norm</td>\n",
              "      <td>SBrkr</td>\n",
              "      <td>TA</td>\n",
              "      <td>TA</td>\n",
              "      <td>HdBoard</td>\n",
              "      <td>HdBoard</td>\n",
              "      <td>CBlock</td>\n",
              "      <td>1</td>\n",
              "      <td>Typ</td>\n",
              "      <td>1389</td>\n",
              "      <td>0</td>\n",
              "      <td>GasA</td>\n",
              "      <td>Gd</td>\n",
              "      <td>1Story</td>\n",
              "      <td>1</td>\n",
              "      <td>TA</td>\n",
              "      <td>Lvl</td>\n",
              "      <td>Mod</td>\n",
              "      <td>10010</td>\n",
              "      <td>Inside</td>\n",
              "      <td>Reg</td>\n",
              "      <td>20</td>\n",
              "      <td>RL</td>\n",
              "      <td>None</td>\n",
              "      <td>4</td>\n",
              "      <td>Mitchel</td>\n",
              "      <td>5</td>\n",
              "      <td>5</td>\n",
              "      <td>Y</td>\n",
              "      <td>CompShg</td>\n",
              "      <td>Gable</td>\n",
              "      <td>170000</td>\n",
              "      <td>Normal</td>\n",
              "      <td>WD</td>\n",
              "      <td>Pave</td>\n",
              "      <td>6</td>\n",
              "      <td>AllPub</td>\n",
              "      <td>1974</td>\n",
              "      <td>1975</td>\n",
              "      <td>2006</td>\n",
              "    </tr>\n",
              "    <tr>\n",
              "      <th>2903</th>\n",
              "      <td>996</td>\n",
              "      <td>3</td>\n",
              "      <td>1Fam</td>\n",
              "      <td>0.0</td>\n",
              "      <td>0.0</td>\n",
              "      <td>Y</td>\n",
              "      <td>Norm</td>\n",
              "      <td>Norm</td>\n",
              "      <td>SBrkr</td>\n",
              "      <td>TA</td>\n",
              "      <td>TA</td>\n",
              "      <td>HdBoard</td>\n",
              "      <td>HdBoard</td>\n",
              "      <td>PConc</td>\n",
              "      <td>2</td>\n",
              "      <td>Typ</td>\n",
              "      <td>2000</td>\n",
              "      <td>1</td>\n",
              "      <td>GasA</td>\n",
              "      <td>Ex</td>\n",
              "      <td>2Story</td>\n",
              "      <td>1</td>\n",
              "      <td>TA</td>\n",
              "      <td>Lvl</td>\n",
              "      <td>Mod</td>\n",
              "      <td>9627</td>\n",
              "      <td>Inside</td>\n",
              "      <td>Reg</td>\n",
              "      <td>60</td>\n",
              "      <td>RL</td>\n",
              "      <td>BrkFace</td>\n",
              "      <td>11</td>\n",
              "      <td>Mitchel</td>\n",
              "      <td>5</td>\n",
              "      <td>7</td>\n",
              "      <td>Y</td>\n",
              "      <td>CompShg</td>\n",
              "      <td>Gable</td>\n",
              "      <td>188000</td>\n",
              "      <td>Normal</td>\n",
              "      <td>WD</td>\n",
              "      <td>Pave</td>\n",
              "      <td>9</td>\n",
              "      <td>AllPub</td>\n",
              "      <td>1993</td>\n",
              "      <td>1994</td>\n",
              "      <td>2006</td>\n",
              "    </tr>\n",
              "  </tbody>\n",
              "</table>\n",
              "<p>2904 rows × 47 columns</p>\n",
              "</div>"
            ],
            "text/plain": [
              "      1st_Flr_SF  Bedroom_AbvGr Bldg_Type  ...  Year_Built  Year_Remod/Add Yr_Sold\n",
              "0           1656              3      1Fam  ...        1960            1960    2010\n",
              "1            896              2      1Fam  ...        1961            1961    2010\n",
              "2           1329              3      1Fam  ...        1958            1958    2010\n",
              "3           2110              3      1Fam  ...        1968            1968    2010\n",
              "4            928              3      1Fam  ...        1997            1998    2010\n",
              "...          ...            ...       ...  ...         ...             ...     ...\n",
              "2899        1003              3      1Fam  ...        1984            1984    2006\n",
              "2900         902              2      1Fam  ...        1983            1983    2006\n",
              "2901         970              3      1Fam  ...        1992            1992    2006\n",
              "2902        1389              2      1Fam  ...        1974            1975    2006\n",
              "2903         996              3      1Fam  ...        1993            1994    2006\n",
              "\n",
              "[2904 rows x 47 columns]"
            ]
          },
          "metadata": {
            "tags": []
          },
          "execution_count": 57
        }
      ]
    },
    {
      "cell_type": "code",
      "metadata": {
        "id": "TqaY86GsOwfK",
        "colab_type": "code",
        "outputId": "711d3d01-6fda-4fb4-db44-706bc20366e5",
        "colab": {
          "base_uri": "https://localhost:8080/",
          "height": 221
        }
      },
      "source": [
        "# Common Regression baseline model: guessing the mean for every sample\n",
        "# Common Classification baseline model: guessing the most common category for every sample\n",
        "guess = df['SalePrice'].mean()\n",
        "errors = guess - df['SalePrice']\n",
        "errors"
      ],
      "execution_count": 0,
      "outputs": [
        {
          "output_type": "execute_result",
          "data": {
            "text/plain": [
              "0      -34616.310262\n",
              "1       75383.689738\n",
              "2        8383.689738\n",
              "3      -63616.310262\n",
              "4       -9516.310262\n",
              "            ...     \n",
              "2899    37883.689738\n",
              "2900    49383.689738\n",
              "2901    48383.689738\n",
              "2902    10383.689738\n",
              "2903    -7616.310262\n",
              "Name: SalePrice, Length: 2904, dtype: float64"
            ]
          },
          "metadata": {
            "tags": []
          },
          "execution_count": 58
        }
      ]
    },
    {
      "cell_type": "code",
      "metadata": {
        "id": "nwRQiNCCRZJX",
        "colab_type": "code",
        "colab": {}
      },
      "source": [
        "from sklearn.metrics import mean_absolute_error, r2_score\n",
        "\n",
        "'''\n",
        "https://scikit-learn.org/stable/modules/model_evaluation.html#r2-score DOCUMENTATION:\n",
        "\n",
        "The r2_score function computes the coefficient of determination, usually denoted as R².\n",
        "\n",
        "It represents the proportion of variance (of y) that has been explained by the independent variables in the model. It provides an indication of goodness of fit and therefore a measure of how well unseen samples are likely to be predicted by the model, through the proportion of explained variance.\n",
        "\n",
        "As such variance is dataset dependent, R² may not be meaningfully comparable across different datasets. Best possible score is 1.0 and it can be negative (because the model can be arbitrarily worse). A constant model that always predicts the expected value of y, disregarding the input features, would get a R² score of 0.0.\n",
        "'''\n",
        "#MAE\n",
        "mean_absolute_error = errors.abs().mean"
      ],
      "execution_count": 0,
      "outputs": []
    },
    {
      "cell_type": "code",
      "metadata": {
        "id": "vypAsTFKRnVG",
        "colab_type": "code",
        "outputId": "b1b021e7-92f3-4527-b202-a2740d14a86a",
        "colab": {
          "base_uri": "https://localhost:8080/",
          "height": 54
        }
      },
      "source": [
        "\n",
        "'''\n",
        "print\n",
        "print(f'If we just guessed every Ames, Iowa home sold for ${guess:,.0f},')\n",
        "print(f'we would be off by ${int(mean_absolute_error)} on average.')\n",
        "\n",
        "'''"
      ],
      "execution_count": 0,
      "outputs": [
        {
          "output_type": "execute_result",
          "data": {
            "text/plain": [
              "\"\\nprint\\nprint(f'If we just guessed every Ames, Iowa home sold for ${guess:,.0f},')\\nprint(f'we would be off by ${int(mean_absolute_error)} on average.')\\n\\n\""
            ]
          },
          "metadata": {
            "tags": []
          },
          "execution_count": 60
        }
      ]
    },
    {
      "cell_type": "code",
      "metadata": {
        "id": "22Kb8bBXV24d",
        "colab_type": "code",
        "outputId": "0080b8f4-1295-48b7-f99f-07beb83caec6",
        "colab": {
          "base_uri": "https://localhost:8080/",
          "height": 34
        }
      },
      "source": [
        "#R^2 Score\n",
        "r2_score(homes['SalePrice'], errors)\n"
      ],
      "execution_count": 0,
      "outputs": [
        {
          "output_type": "execute_result",
          "data": {
            "text/plain": [
              "-8.111020133508356"
            ]
          },
          "metadata": {
            "tags": []
          },
          "execution_count": 61
        }
      ]
    },
    {
      "cell_type": "code",
      "metadata": {
        "id": "JdCvC9gIdVp1",
        "colab_type": "code",
        "outputId": "65750153-ec33-4fe1-abf1-e071103fa393",
        "colab": {
          "base_uri": "https://localhost:8080/",
          "height": 54
        }
      },
      "source": [
        "\n",
        "# Drop some high cardinality categoricals\n",
        "'''\n",
        "df['1st_Flr_SF', 'Bedroom_AbvGr', 'Bldg_Type', 'Bsmt_Full_Bath',\n",
        "       'Bsmt_Half_Bath', 'Central_Air', 'Condition_1', 'Condition_2',\n",
        "       'Electrical', 'Exter_Cond', 'Exter_Qual', 'Exterior_1st',\n",
        "       'Exterior_2nd', 'Foundation', 'Full_Bath', 'Functional', 'Gr_Liv_Area',\n",
        "       'Half_Bath', 'Heating', 'Heating_QC', 'House_Style', 'Kitchen_AbvGr',\n",
        "       'Kitchen_Qual', 'Land_Contour', 'Land_Slope', 'Lot_Area', 'Lot_Config',\n",
        "       'Lot_Shape', 'MS_SubClass', 'MS_Zoning', 'Mas_Vnr_Type', 'Mo_Sold',\n",
        "       'Neighborhood', 'Overall_Cond', 'Overall_Qual', 'Paved_Drive',\n",
        "       'Roof_Matl', 'Roof_Style', 'SalePrice', 'Sale_Condition', 'Sale_Type',\n",
        "       'Street', 'TotRms_AbvGrd', 'Utilities', 'Year_Built', 'Year_Remod/Add',\n",
        "       'Yr_Sold'].describe()\n",
        "'''"
      ],
      "execution_count": 0,
      "outputs": [
        {
          "output_type": "execute_result",
          "data": {
            "text/plain": [
              "\"\\ndf['1st_Flr_SF', 'Bedroom_AbvGr', 'Bldg_Type', 'Bsmt_Full_Bath',\\n       'Bsmt_Half_Bath', 'Central_Air', 'Condition_1', 'Condition_2',\\n       'Electrical', 'Exter_Cond', 'Exter_Qual', 'Exterior_1st',\\n       'Exterior_2nd', 'Foundation', 'Full_Bath', 'Functional', 'Gr_Liv_Area',\\n       'Half_Bath', 'Heating', 'Heating_QC', 'House_Style', 'Kitchen_AbvGr',\\n       'Kitchen_Qual', 'Land_Contour', 'Land_Slope', 'Lot_Area', 'Lot_Config',\\n       'Lot_Shape', 'MS_SubClass', 'MS_Zoning', 'Mas_Vnr_Type', 'Mo_Sold',\\n       'Neighborhood', 'Overall_Cond', 'Overall_Qual', 'Paved_Drive',\\n       'Roof_Matl', 'Roof_Style', 'SalePrice', 'Sale_Condition', 'Sale_Type',\\n       'Street', 'TotRms_AbvGrd', 'Utilities', 'Year_Built', 'Year_Remod/Add',\\n       'Yr_Sold'].describe()\\n\""
            ]
          },
          "metadata": {
            "tags": []
          },
          "execution_count": 62
        }
      ]
    },
    {
      "cell_type": "code",
      "metadata": {
        "id": "qUvpA2rLefZH",
        "colab_type": "code",
        "colab": {}
      },
      "source": [
        "# Drop some columns to prevent \"leakage\"\n",
        "#df = df.drop(columns=[])"
      ],
      "execution_count": 0,
      "outputs": []
    },
    {
      "cell_type": "markdown",
      "metadata": {
        "colab_type": "text",
        "id": "yqeiq1wvyrTq"
      },
      "source": [
        "## 2.2. Do train/validate/test split\n",
        "\n",
        "Train on houses sold in the years 2006 - 2008. (1,920 rows)\n",
        "\n",
        "Validate on house sold in 2009. (644 rows)\n",
        "\n",
        "Test on houses sold in 2010. (340 rows)"
      ]
    },
    {
      "cell_type": "code",
      "metadata": {
        "colab_type": "code",
        "id": "WKFjWLI3w0P_",
        "outputId": "b0991280-f387-4333-99a3-5b7e218e5eff",
        "colab": {
          "base_uri": "https://localhost:8080/",
          "height": 54
        }
      },
      "source": [
        "# Drop some columns to prevent \"leakage\"\n",
        "# df = df.drop(columns=['Rec', 'overall'])\n",
        "\n",
        "#Filter train data; Train on houses sold in the years 2006 - 2008. (1,920 rows)\n",
        "#syntax from https://stackoverflow.com/questions/22898824/filtering-pandas-dataframes-on-dates\n",
        "\n",
        "#Convert Date to DateTime\n",
        "# df['Yr_Sold'] = pd.to_datetime(df['Yr_Sold'], infer_datetime_format=True, errors='coerce')\n",
        "\n",
        "#filter df['Yr_Sold']= 2006-2008  Attempt 1: get empty df\n",
        "'''\n",
        "train = df[(df['Yr_Sold'] >= '2006') & (df['Yr_Sold'] <= '2008')]\n",
        "print(train)\n",
        "'''"
      ],
      "execution_count": 0,
      "outputs": [
        {
          "output_type": "execute_result",
          "data": {
            "text/plain": [
              "\"\\ntrain = df[(df['Yr_Sold'] >= '2006') & (df['Yr_Sold'] <= '2008')]\\nprint(train)\\n\""
            ]
          },
          "metadata": {
            "tags": []
          },
          "execution_count": 64
        }
      ]
    },
    {
      "cell_type": "code",
      "metadata": {
        "id": "O9OVmZi1hYeE",
        "colab_type": "code",
        "outputId": "5e070fe3-03aa-42a6-e8b6-77abcb690356",
        "colab": {
          "base_uri": "https://localhost:8080/",
          "height": 131
        }
      },
      "source": [
        "#TRAIN on houses sold in the years 2006 - 2008. (1,920 rows)\n",
        "#filter df['Yr_Sold']= 2006-2008  Attempt  2: SEEMS TO WORK\n",
        "df.loc['2006-01-01':'2008-31-12']"
      ],
      "execution_count": 0,
      "outputs": [
        {
          "output_type": "execute_result",
          "data": {
            "text/html": [
              "<div>\n",
              "<style scoped>\n",
              "    .dataframe tbody tr th:only-of-type {\n",
              "        vertical-align: middle;\n",
              "    }\n",
              "\n",
              "    .dataframe tbody tr th {\n",
              "        vertical-align: top;\n",
              "    }\n",
              "\n",
              "    .dataframe thead th {\n",
              "        text-align: right;\n",
              "    }\n",
              "</style>\n",
              "<table border=\"1\" class=\"dataframe\">\n",
              "  <thead>\n",
              "    <tr style=\"text-align: right;\">\n",
              "      <th></th>\n",
              "      <th>1st_Flr_SF</th>\n",
              "      <th>Bedroom_AbvGr</th>\n",
              "      <th>Bldg_Type</th>\n",
              "      <th>Bsmt_Full_Bath</th>\n",
              "      <th>Bsmt_Half_Bath</th>\n",
              "      <th>Central_Air</th>\n",
              "      <th>Condition_1</th>\n",
              "      <th>Condition_2</th>\n",
              "      <th>Electrical</th>\n",
              "      <th>Exter_Cond</th>\n",
              "      <th>Exter_Qual</th>\n",
              "      <th>Exterior_1st</th>\n",
              "      <th>Exterior_2nd</th>\n",
              "      <th>Foundation</th>\n",
              "      <th>Full_Bath</th>\n",
              "      <th>Functional</th>\n",
              "      <th>Gr_Liv_Area</th>\n",
              "      <th>Half_Bath</th>\n",
              "      <th>Heating</th>\n",
              "      <th>Heating_QC</th>\n",
              "      <th>House_Style</th>\n",
              "      <th>Kitchen_AbvGr</th>\n",
              "      <th>Kitchen_Qual</th>\n",
              "      <th>Land_Contour</th>\n",
              "      <th>Land_Slope</th>\n",
              "      <th>Lot_Area</th>\n",
              "      <th>Lot_Config</th>\n",
              "      <th>Lot_Shape</th>\n",
              "      <th>MS_SubClass</th>\n",
              "      <th>MS_Zoning</th>\n",
              "      <th>Mas_Vnr_Type</th>\n",
              "      <th>Mo_Sold</th>\n",
              "      <th>Neighborhood</th>\n",
              "      <th>Overall_Cond</th>\n",
              "      <th>Overall_Qual</th>\n",
              "      <th>Paved_Drive</th>\n",
              "      <th>Roof_Matl</th>\n",
              "      <th>Roof_Style</th>\n",
              "      <th>SalePrice</th>\n",
              "      <th>Sale_Condition</th>\n",
              "      <th>Sale_Type</th>\n",
              "      <th>Street</th>\n",
              "      <th>TotRms_AbvGrd</th>\n",
              "      <th>Utilities</th>\n",
              "      <th>Year_Built</th>\n",
              "      <th>Year_Remod/Add</th>\n",
              "      <th>Yr_Sold</th>\n",
              "    </tr>\n",
              "  </thead>\n",
              "  <tbody>\n",
              "    <tr>\n",
              "      <th>2007</th>\n",
              "      <td>1664</td>\n",
              "      <td>5</td>\n",
              "      <td>1Fam</td>\n",
              "      <td>0.0</td>\n",
              "      <td>0.0</td>\n",
              "      <td>N</td>\n",
              "      <td>Artery</td>\n",
              "      <td>Norm</td>\n",
              "      <td>SBrkr</td>\n",
              "      <td>Gd</td>\n",
              "      <td>TA</td>\n",
              "      <td>Stucco</td>\n",
              "      <td>Stucco</td>\n",
              "      <td>BrkTil</td>\n",
              "      <td>2</td>\n",
              "      <td>Typ</td>\n",
              "      <td>2526</td>\n",
              "      <td>0</td>\n",
              "      <td>GasW</td>\n",
              "      <td>TA</td>\n",
              "      <td>1.5Fin</td>\n",
              "      <td>1</td>\n",
              "      <td>Gd</td>\n",
              "      <td>Lvl</td>\n",
              "      <td>Gtl</td>\n",
              "      <td>8520</td>\n",
              "      <td>Inside</td>\n",
              "      <td>Reg</td>\n",
              "      <td>50</td>\n",
              "      <td>RM</td>\n",
              "      <td>None</td>\n",
              "      <td>8</td>\n",
              "      <td>OldTown</td>\n",
              "      <td>7</td>\n",
              "      <td>6</td>\n",
              "      <td>Y</td>\n",
              "      <td>CompShg</td>\n",
              "      <td>Gable</td>\n",
              "      <td>136000</td>\n",
              "      <td>Family</td>\n",
              "      <td>CWD</td>\n",
              "      <td>Pave</td>\n",
              "      <td>10</td>\n",
              "      <td>AllPub</td>\n",
              "      <td>1916</td>\n",
              "      <td>1950</td>\n",
              "      <td>2007</td>\n",
              "    </tr>\n",
              "    <tr>\n",
              "      <th>2008</th>\n",
              "      <td>933</td>\n",
              "      <td>3</td>\n",
              "      <td>1Fam</td>\n",
              "      <td>0.0</td>\n",
              "      <td>0.0</td>\n",
              "      <td>N</td>\n",
              "      <td>Norm</td>\n",
              "      <td>Norm</td>\n",
              "      <td>FuseA</td>\n",
              "      <td>TA</td>\n",
              "      <td>TA</td>\n",
              "      <td>AsbShng</td>\n",
              "      <td>AsbShng</td>\n",
              "      <td>CBlock</td>\n",
              "      <td>2</td>\n",
              "      <td>Typ</td>\n",
              "      <td>1173</td>\n",
              "      <td>0</td>\n",
              "      <td>GasA</td>\n",
              "      <td>TA</td>\n",
              "      <td>1.5Fin</td>\n",
              "      <td>1</td>\n",
              "      <td>TA</td>\n",
              "      <td>Lvl</td>\n",
              "      <td>Gtl</td>\n",
              "      <td>5680</td>\n",
              "      <td>Inside</td>\n",
              "      <td>Reg</td>\n",
              "      <td>45</td>\n",
              "      <td>RM</td>\n",
              "      <td>None</td>\n",
              "      <td>9</td>\n",
              "      <td>OldTown</td>\n",
              "      <td>4</td>\n",
              "      <td>5</td>\n",
              "      <td>Y</td>\n",
              "      <td>CompShg</td>\n",
              "      <td>Gable</td>\n",
              "      <td>113000</td>\n",
              "      <td>AdjLand</td>\n",
              "      <td>WD</td>\n",
              "      <td>Pave</td>\n",
              "      <td>7</td>\n",
              "      <td>AllPub</td>\n",
              "      <td>1901</td>\n",
              "      <td>1950</td>\n",
              "      <td>2007</td>\n",
              "    </tr>\n",
              "  </tbody>\n",
              "</table>\n",
              "</div>"
            ],
            "text/plain": [
              "      1st_Flr_SF  Bedroom_AbvGr Bldg_Type  ...  Year_Built  Year_Remod/Add Yr_Sold\n",
              "2007        1664              5      1Fam  ...        1916            1950    2007\n",
              "2008         933              3      1Fam  ...        1901            1950    2007\n",
              "\n",
              "[2 rows x 47 columns]"
            ]
          },
          "metadata": {
            "tags": []
          },
          "execution_count": 65
        }
      ]
    },
    {
      "cell_type": "code",
      "metadata": {
        "id": "uHiwVSTAjpvA",
        "colab_type": "code",
        "outputId": "1fdfd060-2f6f-4709-fe7d-95dba38f9c55",
        "colab": {
          "base_uri": "https://localhost:8080/",
          "height": 34
        }
      },
      "source": [
        "#Filter train data\n",
        "train = df[df['Yr_Sold'].isin([2006, 2007, 2008])]\n",
        "train\n",
        "train.shape"
      ],
      "execution_count": 0,
      "outputs": [
        {
          "output_type": "execute_result",
          "data": {
            "text/plain": [
              "(1920, 47)"
            ]
          },
          "metadata": {
            "tags": []
          },
          "execution_count": 66
        }
      ]
    },
    {
      "cell_type": "code",
      "metadata": {
        "id": "Z5bEBZqOiTTJ",
        "colab_type": "code",
        "outputId": "c531d722-3a21-4b90-d4e5-b693bec17f98",
        "colab": {
          "base_uri": "https://localhost:8080/",
          "height": 54
        }
      },
      "source": [
        "#filter df['Yr_Sold']= 2006-2008  Attempt 3\n",
        "'''\n",
        "train2006to = df[df['Yr_Sold'] >= '2006']\n",
        "train2006to\n",
        "\n",
        "to_train2008 = train2006to[df['Yr_Sold'] <= '2008']\n",
        "'''"
      ],
      "execution_count": 0,
      "outputs": [
        {
          "output_type": "execute_result",
          "data": {
            "text/plain": [
              "\"\\ntrain2006to = df[df['Yr_Sold'] >= '2006']\\ntrain2006to\\n\\nto_train2008 = train2006to[df['Yr_Sold'] <= '2008']\\n\""
            ]
          },
          "metadata": {
            "tags": []
          },
          "execution_count": 67
        }
      ]
    },
    {
      "cell_type": "code",
      "metadata": {
        "id": "FsOrCm4LklAY",
        "colab_type": "code",
        "outputId": "4d3d1381-42b5-44b1-f163-8b94fbec86e6",
        "colab": {
          "base_uri": "https://localhost:8080/",
          "height": 34
        }
      },
      "source": [
        "#VALIDATE on house sold in 2009. (644 rows)\n",
        "#Filter test data\n",
        "val = df[df['Yr_Sold'] == 2009]\n",
        "val\n",
        "val.shape"
      ],
      "execution_count": 0,
      "outputs": [
        {
          "output_type": "execute_result",
          "data": {
            "text/plain": [
              "(644, 47)"
            ]
          },
          "metadata": {
            "tags": []
          },
          "execution_count": 68
        }
      ]
    },
    {
      "cell_type": "code",
      "metadata": {
        "id": "J9a7znJ-l1nM",
        "colab_type": "code",
        "outputId": "2be8d866-e607-4547-925a-7a86a68c3780",
        "colab": {
          "base_uri": "https://localhost:8080/",
          "height": 34
        }
      },
      "source": [
        "#TEST on houses sold in 2010. (340 rows)\n",
        "#Filter and set aside test data\n",
        "test = df[df['Yr_Sold']== 2010]\n",
        "test\n",
        "test.shape"
      ],
      "execution_count": 0,
      "outputs": [
        {
          "output_type": "execute_result",
          "data": {
            "text/plain": [
              "(340, 47)"
            ]
          },
          "metadata": {
            "tags": []
          },
          "execution_count": 69
        }
      ]
    },
    {
      "cell_type": "markdown",
      "metadata": {
        "colab_type": "text",
        "id": "hk1bYDJy6txq"
      },
      "source": [
        "## 2.3. Arrange data into X features matrix and y target vector\n",
        "\n",
        "Select at least one numeric feature and at least one categorical feature.\n",
        "\n",
        "Otherwise, you may choose whichever features and however many you want."
      ]
    },
    {
      "cell_type": "code",
      "metadata": {
        "colab_type": "code",
        "id": "JQf9iwzf_uWh",
        "outputId": "ab485614-1f6b-4874-e2f4-4ea46c7f6fdd",
        "colab": {
          "base_uri": "https://localhost:8080/",
          "height": 34
        }
      },
      "source": [
        "#Target\n",
        "target = 'SalePrice'\n",
        "\n",
        "print(f'Our target is the home\\'s {target}.')"
      ],
      "execution_count": 0,
      "outputs": [
        {
          "output_type": "stream",
          "text": [
            "Our target is the home's SalePrice.\n"
          ],
          "name": "stdout"
        }
      ]
    },
    {
      "cell_type": "code",
      "metadata": {
        "id": "tkUq1Smpn-Wn",
        "colab_type": "code",
        "outputId": "87146252-e7f6-47d4-f1aa-e12f49ea13a7",
        "colab": {
          "base_uri": "https://localhost:8080/",
          "height": 833
        }
      },
      "source": [
        "df.dtypes"
      ],
      "execution_count": 0,
      "outputs": [
        {
          "output_type": "execute_result",
          "data": {
            "text/plain": [
              "1st_Flr_SF          int64\n",
              "Bedroom_AbvGr       int64\n",
              "Bldg_Type          object\n",
              "Bsmt_Full_Bath    float64\n",
              "Bsmt_Half_Bath    float64\n",
              "Central_Air        object\n",
              "Condition_1        object\n",
              "Condition_2        object\n",
              "Electrical         object\n",
              "Exter_Cond         object\n",
              "Exter_Qual         object\n",
              "Exterior_1st       object\n",
              "Exterior_2nd       object\n",
              "Foundation         object\n",
              "Full_Bath           int64\n",
              "Functional         object\n",
              "Gr_Liv_Area         int64\n",
              "Half_Bath           int64\n",
              "Heating            object\n",
              "Heating_QC         object\n",
              "House_Style        object\n",
              "Kitchen_AbvGr       int64\n",
              "Kitchen_Qual       object\n",
              "Land_Contour       object\n",
              "Land_Slope         object\n",
              "Lot_Area            int64\n",
              "Lot_Config         object\n",
              "Lot_Shape          object\n",
              "MS_SubClass         int64\n",
              "MS_Zoning          object\n",
              "Mas_Vnr_Type       object\n",
              "Mo_Sold             int64\n",
              "Neighborhood       object\n",
              "Overall_Cond        int64\n",
              "Overall_Qual        int64\n",
              "Paved_Drive        object\n",
              "Roof_Matl          object\n",
              "Roof_Style         object\n",
              "SalePrice           int64\n",
              "Sale_Condition     object\n",
              "Sale_Type          object\n",
              "Street             object\n",
              "TotRms_AbvGrd       int64\n",
              "Utilities          object\n",
              "Year_Built          int64\n",
              "Year_Remod/Add      int64\n",
              "Yr_Sold             int64\n",
              "dtype: object"
            ]
          },
          "metadata": {
            "tags": []
          },
          "execution_count": 71
        }
      ]
    },
    {
      "cell_type": "code",
      "metadata": {
        "id": "DO8s9h0VosyO",
        "colab_type": "code",
        "outputId": "03a7ca7a-c386-49ba-db4b-387c716d1ed2",
        "colab": {
          "base_uri": "https://localhost:8080/",
          "height": 34
        }
      },
      "source": [
        "#Features\n",
        "feature = ['Bldg_Type']\n",
        "\n",
        "print(f'I started using {len(feature)} dimension: {feature}.')"
      ],
      "execution_count": 0,
      "outputs": [
        {
          "output_type": "stream",
          "text": [
            "I started using 1 dimension: ['Bldg_Type'].\n"
          ],
          "name": "stdout"
        }
      ]
    },
    {
      "cell_type": "code",
      "metadata": {
        "id": "TsSUjAthpZ97",
        "colab_type": "code",
        "outputId": "0adbbca5-4884-4f1f-a3c7-e5e73110d395",
        "colab": {
          "base_uri": "https://localhost:8080/",
          "height": 34
        }
      },
      "source": [
        "#Set X and Ys\n",
        "X_train = train[feature]\n",
        "y_train = train[target]\n",
        "\n",
        "X_test = test[feature]\n",
        "y_test = test[target]\n",
        "\n",
        "X_val = val[feature]\n",
        "y_val = val[target]\n",
        "print(f'X_train is {X_train.shape}')"
      ],
      "execution_count": 0,
      "outputs": [
        {
          "output_type": "stream",
          "text": [
            "X_train is (1920, 1)\n"
          ],
          "name": "stdout"
        }
      ]
    },
    {
      "cell_type": "code",
      "metadata": {
        "id": "kvtcovmVpsQn",
        "colab_type": "code",
        "outputId": "c44c599f-e353-45d5-e229-16893781ff29",
        "colab": {
          "base_uri": "https://localhost:8080/",
          "height": 34
        }
      },
      "source": [
        "#set X-val & y-val for feature scaling?\n",
        "X_val = val[feature]\n",
        "y_val = val[target]\n",
        "print(f'X_test is {X_test.shape} and y_test is {y_test.shape}')"
      ],
      "execution_count": 0,
      "outputs": [
        {
          "output_type": "stream",
          "text": [
            "X_test is (340, 1) and y_test is (340,)\n"
          ],
          "name": "stdout"
        }
      ]
    },
    {
      "cell_type": "code",
      "metadata": {
        "id": "MDoQevCZ8FiU",
        "colab_type": "code",
        "outputId": "cf355600-626d-44aa-ffe4-f709daa2e787",
        "colab": {
          "base_uri": "https://localhost:8080/",
          "height": 343
        }
      },
      "source": [
        "X_train['Bldg_Type'] = X_train['Bldg_Type'].astype('category').cat.codes\n",
        "X_test['Bldg_Type'] = X_test['Bldg_Type'].astype('category').cat.codes\n",
        "X_val['Bldg_Type'] = X_val['Bldg_Type'].astype('category').cat.codes"
      ],
      "execution_count": 0,
      "outputs": [
        {
          "output_type": "stream",
          "text": [
            "/usr/local/lib/python3.6/dist-packages/ipykernel_launcher.py:1: SettingWithCopyWarning: \n",
            "A value is trying to be set on a copy of a slice from a DataFrame.\n",
            "Try using .loc[row_indexer,col_indexer] = value instead\n",
            "\n",
            "See the caveats in the documentation: http://pandas.pydata.org/pandas-docs/stable/user_guide/indexing.html#returning-a-view-versus-a-copy\n",
            "  \"\"\"Entry point for launching an IPython kernel.\n",
            "/usr/local/lib/python3.6/dist-packages/ipykernel_launcher.py:2: SettingWithCopyWarning: \n",
            "A value is trying to be set on a copy of a slice from a DataFrame.\n",
            "Try using .loc[row_indexer,col_indexer] = value instead\n",
            "\n",
            "See the caveats in the documentation: http://pandas.pydata.org/pandas-docs/stable/user_guide/indexing.html#returning-a-view-versus-a-copy\n",
            "  \n",
            "/usr/local/lib/python3.6/dist-packages/ipykernel_launcher.py:3: SettingWithCopyWarning: \n",
            "A value is trying to be set on a copy of a slice from a DataFrame.\n",
            "Try using .loc[row_indexer,col_indexer] = value instead\n",
            "\n",
            "See the caveats in the documentation: http://pandas.pydata.org/pandas-docs/stable/user_guide/indexing.html#returning-a-view-versus-a-copy\n",
            "  This is separate from the ipykernel package so we can avoid doing imports until\n"
          ],
          "name": "stderr"
        }
      ]
    },
    {
      "cell_type": "code",
      "metadata": {
        "id": "7vosDbLTt9Bf",
        "colab_type": "code",
        "colab": {}
      },
      "source": [
        "from sklearn.impute import SimpleImputer\n",
        "from sklearn.linear_model import LogisticRegressionCV\n",
        "from sklearn.preprocessing import StandardScaler\n",
        "\n",
        "imputer = SimpleImputer(strategy='most_frequent')\n",
        "X_train_imputed = imputer.fit_transform(X_train)\n",
        "X_val_imputed = imputer.transform(X_val)\n",
        "\n",
        "# scaler = StandardScaler()\n",
        "# X_train_scaled = scaler.fit_transform(X_train_imputed)\n",
        "# X_val_scaled = scaler.transform(X_val_imputed)\n",
        "\n",
        "# print(X_train_scaled)\n"
      ],
      "execution_count": 0,
      "outputs": []
    },
    {
      "cell_type": "code",
      "metadata": {
        "id": "PwV9yNj2v4BT",
        "colab_type": "code",
        "outputId": "a1168bfb-347e-4302-ebae-1a769ca38bfd",
        "colab": {
          "base_uri": "https://localhost:8080/",
          "height": 54
        }
      },
      "source": [
        "#Imputing attempt 2: get ValueError: X has 4 features per sample, expected 1  \n",
        "\n",
        "'''\n",
        "imputer = SimpleImputer()\n",
        "X_train_imputed = imputer.fit_transform(X_train_encoded)\n",
        "X_val_imputed = imputer.transform(X_val_encoded) #get err here: ValueError: X has 4 features per sample, expected 1  \n",
        "'''"
      ],
      "execution_count": 0,
      "outputs": [
        {
          "output_type": "execute_result",
          "data": {
            "text/plain": [
              "'\\nimputer = SimpleImputer()\\nX_train_imputed = imputer.fit_transform(X_train_encoded)\\nX_val_imputed = imputer.transform(X_val_encoded) #get err here: ValueError: X has 4 features per sample, expected 1  \\n'"
            ]
          },
          "metadata": {
            "tags": []
          },
          "execution_count": 77
        }
      ]
    },
    {
      "cell_type": "markdown",
      "metadata": {
        "colab_type": "text",
        "id": "zDT-gSl_-Gwh"
      },
      "source": [
        "## 2.4. Do one-hot encoding\n",
        "\n",
        "Encode your categorical feature(s)."
      ]
    },
    {
      "cell_type": "code",
      "metadata": {
        "colab_type": "code",
        "id": "iqRywy6M7Jcr",
        "colab": {}
      },
      "source": [
        "import category_encoders as ce\n",
        "encoder = ce.OneHotEncoder(use_cat_names=True)\n",
        "X_train_encoded = encoder.fit_transform(X_train)\n",
        "X_val_encoded = encoder.transform(X_val)\n"
      ],
      "execution_count": 0,
      "outputs": []
    },
    {
      "cell_type": "code",
      "metadata": {
        "id": "OSFH0BtqxMpy",
        "colab_type": "code",
        "colab": {}
      },
      "source": [
        "\n",
        "# model = LogisticRegressionCV(cv=5, n_jobs=-1, random_state=42)\n",
        "# model.fit(X_train_scaled, y_train) # ValueError here: Found input variables with inconsistent numbers of samples: [561, 2]\n",
        "# print('Validation Accuracy', model.score(X_val_scaled, y_val))\n"
      ],
      "execution_count": 0,
      "outputs": []
    },
    {
      "cell_type": "code",
      "metadata": {
        "id": "6pdgOgFDy4zo",
        "colab_type": "code",
        "outputId": "9666a646-0972-4e22-a547-59fa26b4986d",
        "colab": {
          "base_uri": "https://localhost:8080/",
          "height": 54
        }
      },
      "source": [
        "'''\n",
        "#Attempt 2: using https://www.geeksforgeeks.org/ml-one-hot-encoding-of-datasets-in-python/\n",
        "\n",
        "# importing one hot encoder from sklearn \n",
        "from sklearn.preprocessing import OneHotEncoder \n",
        "  \n",
        "# creating one hot encoder object with categorical feature\n",
        "onehotencoder = OneHotEncoder(categorical_features = ['Bldg_Type'])  #TypeError here: __init__() got an unexpected keyword argument 'categorical_features'\n",
        "data = onehotencoder.fit_transform(data).toarray() \n",
        "'''"
      ],
      "execution_count": 0,
      "outputs": [
        {
          "output_type": "execute_result",
          "data": {
            "text/plain": [
              "\"\\n#Attempt 2: using https://www.geeksforgeeks.org/ml-one-hot-encoding-of-datasets-in-python/\\n\\n# importing one hot encoder from sklearn \\nfrom sklearn.preprocessing import OneHotEncoder \\n  \\n# creating one hot encoder object with categorical feature\\nonehotencoder = OneHotEncoder(categorical_features = ['Bldg_Type'])  #TypeError here: __init__() got an unexpected keyword argument 'categorical_features'\\ndata = onehotencoder.fit_transform(data).toarray() \\n\""
            ]
          },
          "metadata": {
            "tags": []
          },
          "execution_count": 79
        }
      ]
    },
    {
      "cell_type": "code",
      "metadata": {
        "id": "lRip_X78z8nM",
        "colab_type": "code",
        "outputId": "859e7ead-1a4c-4533-c5f3-15a8f4b491f7",
        "colab": {
          "base_uri": "https://localhost:8080/",
          "height": 34
        }
      },
      "source": [
        "#Attempt 3: using LS_DSPT4_214.ipynb:\n",
        "import category_encoders as ce\n",
        "from sklearn.linear_model import LogisticRegressionCV\n",
        "from sklearn.preprocessing import StandardScaler\n",
        "\n",
        "'''\n",
        "using notes from: https://www.geeksforgeeks.org/ml-one-hot-encoding-of-datasets-in-python/\n",
        "One Hot Encoding –\n",
        "It refers to splitting the column which contains numerical categorical data to many columns \n",
        "depending on the number of categories present in that column. Each column contains “0” or “1” \n",
        "corresponding to which column it has been placed.\n",
        "'''\n",
        "\n",
        "# Data Dictionary \n",
        "target = 'Overall_Cond'\n",
        "features = ['1st_Flr_SF', 'Bedroom_AbvGr', 'Bldg_Type', 'Bsmt_Full_Bath',\n",
        "       'Bsmt_Half_Bath', 'Central_Air', 'Condition_1', 'Condition_2',\n",
        "       'Electrical', 'Exter_Cond', 'Exter_Qual', 'Exterior_1st',\n",
        "       'Exterior_2nd', 'Foundation', 'Full_Bath', 'Functional', 'Gr_Liv_Area',\n",
        "       'Half_Bath', 'Heating', 'Heating_QC', 'House_Style', 'Kitchen_AbvGr',\n",
        "       'Kitchen_Qual', 'Land_Contour', 'Land_Slope', 'Lot_Area', 'Lot_Config',\n",
        "       'Lot_Shape', 'MS_SubClass', 'MS_Zoning', 'Mas_Vnr_Type', 'Mo_Sold',\n",
        "       'Neighborhood', 'Overall_Qual', 'Paved_Drive',\n",
        "       'Roof_Matl', 'Roof_Style', 'SalePrice', 'Sale_Condition', 'Sale_Type',\n",
        "       'Street', 'TotRms_AbvGrd', 'Utilities', 'Year_Built', 'Year_Remod/Add',\n",
        "       'Yr_Sold']\n",
        "X_train = train[features]\n",
        "y_train = train[target]\n",
        "X_val = val[features]\n",
        "y_val = val[target]\n",
        "print(X_train.shape, X_val.shape)\n"
      ],
      "execution_count": 0,
      "outputs": [
        {
          "output_type": "stream",
          "text": [
            "(1920, 46) (644, 46)\n"
          ],
          "name": "stdout"
        }
      ]
    },
    {
      "cell_type": "code",
      "metadata": {
        "id": "rSls0a6-3PaT",
        "colab_type": "code",
        "outputId": "282eeaf2-1efa-40db-f14e-9553e3ca59e1",
        "colab": {
          "base_uri": "https://localhost:8080/",
          "height": 34
        }
      },
      "source": [
        "\n",
        "encoder = ce.OneHotEncoder(use_cat_names=True)\n",
        "X_train_encoded = encoder.fit_transform(X_train)\n",
        "X_val_encoded = encoder.transform(X_val)\n",
        "print(X_train_encoded.shape, X_val_encoded.shape)\n",
        "\n",
        "imputer = SimpleImputer(strategy='mean')\n",
        "#X_train_imputed = imputer.fit_transform(X_train_encoded) #TypeError here: invalid type promotion\n",
        "X_val_imputed = imputer.fit_transform(X_val_encoded)\n",
        "\n",
        "scaler = StandardScaler()\n",
        "X_train_scaled = scaler.fit_transform(X_train_imputed)\n",
        "X_val_scaled = scaler.transform(X_val_imputed)"
      ],
      "execution_count": 0,
      "outputs": [
        {
          "output_type": "stream",
          "text": [
            "(1920, 217) (644, 217)\n"
          ],
          "name": "stdout"
        }
      ]
    },
    {
      "cell_type": "markdown",
      "metadata": {
        "colab_type": "text",
        "id": "2ZceruUx-Vs-"
      },
      "source": [
        "## 2.5. Use scikit-learn to fit a linear regression or ridge regression model\n",
        "Fit your model."
      ]
    },
    {
      "cell_type": "code",
      "metadata": {
        "colab_type": "code",
        "id": "Kvy4Z0xv7eJF",
        "colab": {}
      },
      "source": [
        "import category_encoders as ce\n",
        "encoder = ce.OneHotEncoder(use_cat_names=True)\n",
        "X_train_encoded = encoder.fit_transform(X_train)\n",
        "X_val_encoded = encoder.transform(X_val)\n"
      ],
      "execution_count": 0,
      "outputs": []
    },
    {
      "cell_type": "code",
      "metadata": {
        "id": "Qz46BhyXJAfX",
        "colab_type": "code",
        "colab": {}
      },
      "source": [
        "# model = LogisticRegressionCV(cv=5, n_jobs=-1, random_state=42)\n",
        "# model.fit(X_train_scaled, y_train) # ValueError here: Found input variables with inconsistent numbers of samples: [561, 2]\n",
        "# print('Validation Accuracy', model.score(X_val_scaled, y_val))\n"
      ],
      "execution_count": 0,
      "outputs": []
    },
    {
      "cell_type": "code",
      "metadata": {
        "id": "E639ZviRJBg2",
        "colab_type": "code",
        "outputId": "6263813d-89ef-4283-eef9-823c310600a4",
        "colab": {
          "base_uri": "https://localhost:8080/",
          "height": 54
        }
      },
      "source": [
        "'''\n",
        "#Attempt 2: using https://www.geeksforgeeks.org/ml-one-hot-encoding-of-datasets-in-python/\n",
        "\n",
        "# importing one hot encoder from sklearn \n",
        "from sklearn.preprocessing import OneHotEncoder \n",
        "  \n",
        "# creating one hot encoder object with categorical feature\n",
        "onehotencoder = OneHotEncoder(categorical_features = ['Bldg_Type'])  #TypeError here: __init__() got an unexpected keyword argument 'categorical_features'\n",
        "data = onehotencoder.fit_transform(data).toarray() \n",
        "'''"
      ],
      "execution_count": 0,
      "outputs": [
        {
          "output_type": "execute_result",
          "data": {
            "text/plain": [
              "\"\\n#Attempt 2: using https://www.geeksforgeeks.org/ml-one-hot-encoding-of-datasets-in-python/\\n\\n# importing one hot encoder from sklearn \\nfrom sklearn.preprocessing import OneHotEncoder \\n  \\n# creating one hot encoder object with categorical feature\\nonehotencoder = OneHotEncoder(categorical_features = ['Bldg_Type'])  #TypeError here: __init__() got an unexpected keyword argument 'categorical_features'\\ndata = onehotencoder.fit_transform(data).toarray() \\n\""
            ]
          },
          "metadata": {
            "tags": []
          },
          "execution_count": 83
        }
      ]
    },
    {
      "cell_type": "code",
      "metadata": {
        "id": "iejUeu4EJGGr",
        "colab_type": "code",
        "outputId": "f986a22a-b57b-4e31-ad6f-52c267b49ccf",
        "colab": {
          "base_uri": "https://localhost:8080/",
          "height": 34
        }
      },
      "source": [
        "#Attempt 3: using LS_DSPT4_214.ipynb:\n",
        "import category_encoders as ce\n",
        "from sklearn.linear_model import LogisticRegressionCV\n",
        "from sklearn.preprocessing import StandardScaler\n",
        "\n",
        "'''\n",
        "using notes from: https://www.geeksforgeeks.org/ml-one-hot-encoding-of-datasets-in-python/\n",
        "One Hot Encoding –\n",
        "It refers to splitting the column which contains numerical categorical data to many columns \n",
        "depending on the number of categories present in that column. Each column contains “0” or “1” \n",
        "corresponding to which column it has been placed.\n",
        "'''\n",
        "\n",
        "# Data Dictionary \n",
        "target = 'Overall_Cond'\n",
        "features = ['1st_Flr_SF', 'Bedroom_AbvGr', 'Bldg_Type', 'Bsmt_Full_Bath',\n",
        "       'Bsmt_Half_Bath', 'Central_Air', 'Condition_1', 'Condition_2',\n",
        "       'Electrical', 'Exter_Cond', 'Exter_Qual', 'Exterior_1st',\n",
        "       'Exterior_2nd', 'Foundation', 'Full_Bath', 'Functional', 'Gr_Liv_Area',\n",
        "       'Half_Bath', 'Heating', 'Heating_QC', 'House_Style', 'Kitchen_AbvGr',\n",
        "       'Kitchen_Qual', 'Land_Contour', 'Land_Slope', 'Lot_Area', 'Lot_Config',\n",
        "       'Lot_Shape', 'MS_SubClass', 'MS_Zoning', 'Mas_Vnr_Type', 'Mo_Sold',\n",
        "       'Neighborhood', 'Overall_Qual', 'Paved_Drive',\n",
        "       'Roof_Matl', 'Roof_Style', 'SalePrice', 'Sale_Condition', 'Sale_Type',\n",
        "       'Street', 'TotRms_AbvGrd', 'Utilities', 'Year_Built', 'Year_Remod/Add',\n",
        "       'Yr_Sold']\n",
        "X_train = train[features]\n",
        "y_train = train[target]\n",
        "X_val = val[features]\n",
        "y_val = val[target]\n",
        "print(X_train.shape, X_val.shape)\n"
      ],
      "execution_count": 0,
      "outputs": [
        {
          "output_type": "stream",
          "text": [
            "(1920, 46) (644, 46)\n"
          ],
          "name": "stdout"
        }
      ]
    },
    {
      "cell_type": "code",
      "metadata": {
        "id": "BZl7epu0JKwn",
        "colab_type": "code",
        "outputId": "07bb94f9-dfe7-4719-942f-5c0c7258de32",
        "colab": {
          "base_uri": "https://localhost:8080/",
          "height": 34
        }
      },
      "source": [
        "\n",
        "encoder = ce.OneHotEncoder(use_cat_names=True)\n",
        "X_train_encoded = encoder.fit_transform(X_train)\n",
        "X_val_encoded = encoder.transform(X_val)\n",
        "print(X_train_encoded.shape, X_val_encoded.shape)\n",
        "\n",
        "imputer = SimpleImputer(strategy='mean')\n",
        "#X_train_imputed = imputer.fit_transform(X_train_encoded) #TypeError here: invalid type promotion\n",
        "X_val_imputed = imputer.fit_transform(X_val_encoded)\n",
        "\n",
        "scaler = StandardScaler()\n",
        "X_train_scaled = scaler.fit_transform(X_train_imputed)\n",
        "X_val_scaled = scaler.transform(X_val_imputed)"
      ],
      "execution_count": 0,
      "outputs": [
        {
          "output_type": "stream",
          "text": [
            "(1920, 217) (644, 217)\n"
          ],
          "name": "stdout"
        }
      ]
    },
    {
      "cell_type": "markdown",
      "metadata": {
        "colab_type": "text",
        "id": "E9reASgw-i8T"
      },
      "source": [
        "## 2.6. Report validation MAE and $R^2$\n",
        "\n",
        "What is your model's Mean Absolute Error and $R^2$ score on the validation set? (You are not graded on how high or low your validation scores are.)"
      ]
    },
    {
      "cell_type": "code",
      "metadata": {
        "colab_type": "code",
        "id": "q8GdnL4e7hyK",
        "outputId": "1450085a-65aa-4750-90d6-2b4ef267305c",
        "colab": {
          "base_uri": "https://localhost:8080/",
          "height": 164
        }
      },
      "source": [
        "#MAE \n",
        "model.errors.abs().mean"
      ],
      "execution_count": 0,
      "outputs": [
        {
          "output_type": "error",
          "ename": "AttributeError",
          "evalue": "ignored",
          "traceback": [
            "\u001b[0;31m---------------------------------------------------------------------------\u001b[0m",
            "\u001b[0;31mAttributeError\u001b[0m                            Traceback (most recent call last)",
            "\u001b[0;32m<ipython-input-86-b754aea43338>\u001b[0m in \u001b[0;36m<module>\u001b[0;34m()\u001b[0m\n\u001b[0;32m----> 1\u001b[0;31m \u001b[0mmodel\u001b[0m\u001b[0;34m.\u001b[0m\u001b[0merrors\u001b[0m\u001b[0;34m.\u001b[0m\u001b[0mabs\u001b[0m\u001b[0;34m(\u001b[0m\u001b[0;34m)\u001b[0m\u001b[0;34m.\u001b[0m\u001b[0mmean\u001b[0m\u001b[0;34m\u001b[0m\u001b[0;34m\u001b[0m\u001b[0m\n\u001b[0m",
            "\u001b[0;31mAttributeError\u001b[0m: 'LogisticRegressionCV' object has no attribute 'errors'"
          ]
        }
      ]
    },
    {
      "cell_type": "code",
      "metadata": {
        "id": "WjEINERxM3Kk",
        "colab_type": "code",
        "colab": {}
      },
      "source": [
        "#R^2 score using https://scikit-learn.org/stable/modules/generated/sklearn.metrics.r2_score.html"
      ],
      "execution_count": 0,
      "outputs": []
    },
    {
      "cell_type": "code",
      "metadata": {
        "id": "9zBuexerNM5o",
        "colab_type": "code",
        "colab": {}
      },
      "source": [
        "# MAE & R^2; Attempt #2:\n",
        "features = ['BldgType']\n",
        "\n",
        "\n",
        "# Assign to X, y\n",
        "X_train = train[features]\n",
        "y_train = train[target]\n",
        "X_val = val[features]\n",
        "y_val = val[target]"
      ],
      "execution_count": 0,
      "outputs": []
    },
    {
      "cell_type": "markdown",
      "metadata": {
        "colab_type": "text",
        "id": "DidByDsrOa-o"
      },
      "source": [
        "# Stretch Goals, Regression\n",
        "- Make at least 2 visualizations to explore relationships between features and target. You may use any visualization library\n",
        "- Try at least 3 feature combinations. You may select features manually, or automatically\n",
        "- Report validation MAE and $R^2$ for each feature combination you try\n",
        "- Report test MAE and $R^2$ for your final model\n",
        "- Print or plot the coefficients for the features in your model"
      ]
    },
    {
      "cell_type": "code",
      "metadata": {
        "colab_type": "code",
        "id": "xOfSQIf3Y3OV",
        "colab": {}
      },
      "source": [
        ""
      ],
      "execution_count": 0,
      "outputs": []
    },
    {
      "cell_type": "markdown",
      "metadata": {
        "colab_type": "text",
        "id": "PdkjBN1Dy_-A"
      },
      "source": [
        "# Data Dictionary \n",
        "\n",
        "Here's a description of the data fields:\n",
        "\n",
        "```\n",
        "1st_Flr_SF: First Floor square feet\n",
        "\n",
        "Bedroom_AbvGr: Bedrooms above grade (does NOT include basement bedrooms)\n",
        "\n",
        "Bldg_Type: Type of dwelling\n",
        "\t\t\n",
        "       1Fam\tSingle-family Detached\t\n",
        "       2FmCon\tTwo-family Conversion; originally built as one-family dwelling\n",
        "       Duplx\tDuplex\n",
        "       TwnhsE\tTownhouse End Unit\n",
        "       TwnhsI\tTownhouse Inside Unit\n",
        "       \n",
        "Bsmt_Half_Bath: Basement half bathrooms\n",
        "\n",
        "Bsmt_Full_Bath: Basement full bathrooms\n",
        "\n",
        "Central_Air: Central air conditioning\n",
        "\n",
        "       N\tNo\n",
        "       Y\tYes\n",
        "\t\t\n",
        "Condition_1: Proximity to various conditions\n",
        "\t\n",
        "       Artery\tAdjacent to arterial street\n",
        "       Feedr\tAdjacent to feeder street\t\n",
        "       Norm\tNormal\t\n",
        "       RRNn\tWithin 200' of North-South Railroad\n",
        "       RRAn\tAdjacent to North-South Railroad\n",
        "       PosN\tNear positive off-site feature--park, greenbelt, etc.\n",
        "       PosA\tAdjacent to postive off-site feature\n",
        "       RRNe\tWithin 200' of East-West Railroad\n",
        "       RRAe\tAdjacent to East-West Railroad\n",
        "\t\n",
        "Condition_2: Proximity to various conditions (if more than one is present)\n",
        "\t\t\n",
        "       Artery\tAdjacent to arterial street\n",
        "       Feedr\tAdjacent to feeder street\t\n",
        "       Norm\tNormal\t\n",
        "       RRNn\tWithin 200' of North-South Railroad\n",
        "       RRAn\tAdjacent to North-South Railroad\n",
        "       PosN\tNear positive off-site feature--park, greenbelt, etc.\n",
        "       PosA\tAdjacent to postive off-site feature\n",
        "       RRNe\tWithin 200' of East-West Railroad\n",
        "       RRAe\tAdjacent to East-West Railroad\n",
        "       \n",
        " Electrical: Electrical system\n",
        "\n",
        "       SBrkr\tStandard Circuit Breakers & Romex\n",
        "       FuseA\tFuse Box over 60 AMP and all Romex wiring (Average)\t\n",
        "       FuseF\t60 AMP Fuse Box and mostly Romex wiring (Fair)\n",
        "       FuseP\t60 AMP Fuse Box and mostly knob & tube wiring (poor)\n",
        "       Mix\tMixed\n",
        "       \n",
        " Exter_Cond: Evaluates the present condition of the material on the exterior\n",
        "\t\t\n",
        "       Ex\tExcellent\n",
        "       Gd\tGood\n",
        "       TA\tAverage/Typical\n",
        "       Fa\tFair\n",
        "       Po\tPoor\n",
        " \n",
        " Exter_Qual: Evaluates the quality of the material on the exterior \n",
        "\t\t\n",
        "       Ex\tExcellent\n",
        "       Gd\tGood\n",
        "       TA\tAverage/Typical\n",
        "       Fa\tFair\n",
        "       Po\tPoor\n",
        "\t\t\n",
        "Exterior_1st: Exterior covering on house\n",
        "\n",
        "       AsbShng\tAsbestos Shingles\n",
        "       AsphShn\tAsphalt Shingles\n",
        "       BrkComm\tBrick Common\n",
        "       BrkFace\tBrick Face\n",
        "       CBlock\tCinder Block\n",
        "       CemntBd\tCement Board\n",
        "       HdBoard\tHard Board\n",
        "       ImStucc\tImitation Stucco\n",
        "       MetalSd\tMetal Siding\n",
        "       Other\tOther\n",
        "       Plywood\tPlywood\n",
        "       PreCast\tPreCast\t\n",
        "       Stone\tStone\n",
        "       Stucco\tStucco\n",
        "       VinylSd\tVinyl Siding\n",
        "       Wd Sdng\tWood Siding\n",
        "       WdShing\tWood Shingles\n",
        "\t\n",
        "Exterior_2nd: Exterior covering on house (if more than one material)\n",
        "\n",
        "       AsbShng\tAsbestos Shingles\n",
        "       AsphShn\tAsphalt Shingles\n",
        "       BrkComm\tBrick Common\n",
        "       BrkFace\tBrick Face\n",
        "       CBlock\tCinder Block\n",
        "       CemntBd\tCement Board\n",
        "       HdBoard\tHard Board\n",
        "       ImStucc\tImitation Stucco\n",
        "       MetalSd\tMetal Siding\n",
        "       Other\tOther\n",
        "       Plywood\tPlywood\n",
        "       PreCast\tPreCast\n",
        "       Stone\tStone\n",
        "       Stucco\tStucco\n",
        "       VinylSd\tVinyl Siding\n",
        "       Wd Sdng\tWood Siding\n",
        "       WdShing\tWood Shingles\n",
        "       \n",
        "Foundation: Type of foundation\n",
        "\t\t\n",
        "       BrkTil\tBrick & Tile\n",
        "       CBlock\tCinder Block\n",
        "       PConc\tPoured Contrete\t\n",
        "       Slab\tSlab\n",
        "       Stone\tStone\n",
        "       Wood\tWood\n",
        "\t\t\n",
        "Full_Bath: Full bathrooms above grade\n",
        "\n",
        "Functional: Home functionality (Assume typical unless deductions are warranted)\n",
        "\n",
        "       Typ\tTypical Functionality\n",
        "       Min1\tMinor Deductions 1\n",
        "       Min2\tMinor Deductions 2\n",
        "       Mod\tModerate Deductions\n",
        "       Maj1\tMajor Deductions 1\n",
        "       Maj2\tMajor Deductions 2\n",
        "       Sev\tSeverely Damaged\n",
        "       Sal\tSalvage only\n",
        "\t\t\n",
        "Gr_Liv_Area: Above grade (ground) living area square feet\n",
        "        \n",
        "Half_Bath: Half baths above grade\n",
        "\n",
        "Heating: Type of heating\n",
        "\t\t\n",
        "       Floor\tFloor Furnace\n",
        "       GasA\tGas forced warm air furnace\n",
        "       GasW\tGas hot water or steam heat\n",
        "       Grav\tGravity furnace\t\n",
        "       OthW\tHot water or steam heat other than gas\n",
        "       Wall\tWall furnace\n",
        "\t\t\n",
        "Heating_QC: Heating quality and condition\n",
        "\n",
        "       Ex\tExcellent\n",
        "       Gd\tGood\n",
        "       TA\tAverage/Typical\n",
        "       Fa\tFair\n",
        "       Po\tPoor\n",
        "\n",
        "House_Style: Style of dwelling\n",
        "\t\n",
        "       1Story\tOne story\n",
        "       1.5Fin\tOne and one-half story: 2nd level finished\n",
        "       1.5Unf\tOne and one-half story: 2nd level unfinished\n",
        "       2Story\tTwo story\n",
        "       2.5Fin\tTwo and one-half story: 2nd level finished\n",
        "       2.5Unf\tTwo and one-half story: 2nd level unfinished\n",
        "       SFoyer\tSplit Foyer\n",
        "       SLvl\tSplit Level\n",
        "\n",
        "Kitchen_AbvGr: Kitchens above grade\n",
        "\n",
        "Kitchen_Qual: Kitchen quality\n",
        "\n",
        "       Ex\tExcellent\n",
        "       Gd\tGood\n",
        "       TA\tTypical/Average\n",
        "       Fa\tFair\n",
        "       Po\tPoor\n",
        "\n",
        "LandContour: Flatness of the property\n",
        "\n",
        "       Lvl\tNear Flat/Level\t\n",
        "       Bnk\tBanked - Quick and significant rise from street grade to building\n",
        "       HLS\tHillside - Significant slope from side to side\n",
        "       Low\tDepression\n",
        "\t\t\n",
        "Land_Slope: Slope of property\n",
        "\t\t\n",
        "       Gtl\tGentle slope\n",
        "       Mod\tModerate Slope\t\n",
        "       Sev\tSevere Slope\n",
        "\n",
        "Lot_Area: Lot size in square feet\n",
        "\n",
        "Lot_Config: Lot configuration\n",
        "\n",
        "       Inside\tInside lot\n",
        "       Corner\tCorner lot\n",
        "       CulDSac\tCul-de-sac\n",
        "       FR2\tFrontage on 2 sides of property\n",
        "       FR3\tFrontage on 3 sides of property\n",
        "\n",
        "Lot_Shape: General shape of property\n",
        "\n",
        "       Reg\tRegular\t\n",
        "       IR1\tSlightly irregular\n",
        "       IR2\tModerately Irregular\n",
        "       IR3\tIrregular\n",
        "\n",
        "MS_SubClass: Identifies the type of dwelling involved in the sale.\t\n",
        "\n",
        "        20\t1-STORY 1946 & NEWER ALL STYLES\n",
        "        30\t1-STORY 1945 & OLDER\n",
        "        40\t1-STORY W/FINISHED ATTIC ALL AGES\n",
        "        45\t1-1/2 STORY - UNFINISHED ALL AGES\n",
        "        50\t1-1/2 STORY FINISHED ALL AGES\n",
        "        60\t2-STORY 1946 & NEWER\n",
        "        70\t2-STORY 1945 & OLDER\n",
        "        75\t2-1/2 STORY ALL AGES\n",
        "        80\tSPLIT OR MULTI-LEVEL\n",
        "        85\tSPLIT FOYER\n",
        "        90\tDUPLEX - ALL STYLES AND AGES\n",
        "       120\t1-STORY PUD (Planned Unit Development) - 1946 & NEWER\n",
        "       150\t1-1/2 STORY PUD - ALL AGES\n",
        "       160\t2-STORY PUD - 1946 & NEWER\n",
        "       180\tPUD - MULTILEVEL - INCL SPLIT LEV/FOYER\n",
        "       190\t2 FAMILY CONVERSION - ALL STYLES AND AGES\n",
        "\n",
        "MS_Zoning: Identifies the general zoning classification of the sale.\n",
        "\t\t\n",
        "       A\tAgriculture\n",
        "       C\tCommercial\n",
        "       FV\tFloating Village Residential\n",
        "       I\tIndustrial\n",
        "       RH\tResidential High Density\n",
        "       RL\tResidential Low Density\n",
        "       RP\tResidential Low Density Park \n",
        "       RM\tResidential Medium Density\n",
        "\n",
        "Mas_Vnr_Type: Masonry veneer type\n",
        "\n",
        "       BrkCmn\tBrick Common\n",
        "       BrkFace\tBrick Face\n",
        "       CBlock\tCinder Block\n",
        "       None\tNone\n",
        "       Stone\tStone\n",
        "\n",
        "Mo_Sold: Month Sold (MM)\n",
        "\n",
        "Neighborhood: Physical locations within Ames city limits\n",
        "\n",
        "       Blmngtn\tBloomington Heights\n",
        "       Blueste\tBluestem\n",
        "       BrDale\tBriardale\n",
        "       BrkSide\tBrookside\n",
        "       ClearCr\tClear Creek\n",
        "       CollgCr\tCollege Creek\n",
        "       Crawfor\tCrawford\n",
        "       Edwards\tEdwards\n",
        "       Gilbert\tGilbert\n",
        "       IDOTRR\tIowa DOT and Rail Road\n",
        "       MeadowV\tMeadow Village\n",
        "       Mitchel\tMitchell\n",
        "       Names\tNorth Ames\n",
        "       NoRidge\tNorthridge\n",
        "       NPkVill\tNorthpark Villa\n",
        "       NridgHt\tNorthridge Heights\n",
        "       NWAmes\tNorthwest Ames\n",
        "       OldTown\tOld Town\n",
        "       SWISU\tSouth & West of Iowa State University\n",
        "       Sawyer\tSawyer\n",
        "       SawyerW\tSawyer West\n",
        "       Somerst\tSomerset\n",
        "       StoneBr\tStone Brook\n",
        "       Timber\tTimberland\n",
        "       Veenker\tVeenker\n",
        "\t\t\t\n",
        "Overall_Cond: Rates the overall condition of the house\n",
        "\n",
        "       10\tVery Excellent\n",
        "       9\tExcellent\n",
        "       8\tVery Good\n",
        "       7\tGood\n",
        "       6\tAbove Average\t\n",
        "       5\tAverage\n",
        "       4\tBelow Average\t\n",
        "       3\tFair\n",
        "       2\tPoor\n",
        "       1\tVery Poor\n",
        "\n",
        "Overall_Qual: Rates the overall material and finish of the house\n",
        "\n",
        "       10\tVery Excellent\n",
        "       9\tExcellent\n",
        "       8\tVery Good\n",
        "       7\tGood\n",
        "       6\tAbove Average\n",
        "       5\tAverage\n",
        "       4\tBelow Average\n",
        "       3\tFair\n",
        "       2\tPoor\n",
        "       1\tVery Poor\n",
        "\n",
        "Paved_Drive: Paved driveway\n",
        "\n",
        "       Y\tPaved \n",
        "       P\tPartial Pavement\n",
        "       N\tDirt/Gravel\n",
        "\n",
        "Roof_Matl: Roof material\n",
        "\n",
        "       ClyTile\tClay or Tile\n",
        "       CompShg\tStandard (Composite) Shingle\n",
        "       Membran\tMembrane\n",
        "       Metal\tMetal\n",
        "       Roll\tRoll\n",
        "       Tar&Grv\tGravel & Tar\n",
        "       WdShake\tWood Shakes\n",
        "       WdShngl\tWood Shingles\n",
        "\n",
        "Roof_Style: Type of roof\n",
        "\n",
        "       Flat\tFlat\n",
        "       Gable\tGable\n",
        "       Gambrel\tGabrel (Barn)\n",
        "       Hip\tHip\n",
        "       Mansard\tMansard\n",
        "       Shed\tShed\n",
        "\n",
        "SalePrice: the sales price for each house\n",
        "\n",
        "Sale_Condition: Condition of sale\n",
        "\n",
        "       Normal\tNormal Sale\n",
        "       Abnorml\tAbnormal Sale -  trade, foreclosure, short sale\n",
        "       AdjLand\tAdjoining Land Purchase\n",
        "       Alloca\tAllocation - two linked properties with separate deeds, typically condo with a garage unit\t\n",
        "       Family\tSale between family members\n",
        "       Partial\tHome was not completed when last assessed (associated with New Homes)\n",
        "\n",
        "Sale_Type: Type of sale\n",
        "\t\t\n",
        "       WD \tWarranty Deed - Conventional\n",
        "       CWD\tWarranty Deed - Cash\n",
        "       VWD\tWarranty Deed - VA Loan\n",
        "       New\tHome just constructed and sold\n",
        "       COD\tCourt Officer Deed/Estate\n",
        "       Con\tContract 15% Down payment regular terms\n",
        "       ConLw\tContract Low Down payment and low interest\n",
        "       ConLI\tContract Low Interest\n",
        "       ConLD\tContract Low Down\n",
        "       Oth\tOther\n",
        "\t\n",
        "Street: Type of road access to property\n",
        "\n",
        "       Grvl\tGravel\t\n",
        "       Pave\tPaved\n",
        "       \t\n",
        "TotRms_AbvGrd: Total rooms above grade (does not include bathrooms)\n",
        "\n",
        "Utilities: Type of utilities available\n",
        "\t\t\n",
        "       AllPub\tAll public Utilities (E,G,W,& S)\t\n",
        "       NoSewr\tElectricity, Gas, and Water (Septic Tank)\n",
        "       NoSeWa\tElectricity and Gas Only\n",
        "       ELO\tElectricity only\t\n",
        "\t\n",
        "Year_Built: Original construction date\n",
        "\n",
        "Year_Remod/Add: Remodel date (same as construction date if no remodeling or additions)\n",
        "\t\t\t\t\t\t\n",
        "Yr_Sold: Year Sold (YYYY)\t\n",
        "\n",
        "```"
      ]
    }
  ]
}